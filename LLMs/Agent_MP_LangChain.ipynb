{
 "cells": [
  {
   "cell_type": "code",
   "execution_count": 73,
   "id": "066c4057-ff7a-478e-836c-56e912e7ab39",
   "metadata": {},
   "outputs": [],
   "source": [
    "import numpy as np\n",
    "import pandas as pd\n",
    "import json\n",
    "import re\n",
    "import os\n",
    "import ast\n",
    "import matplotlib.pyplot as plt\n",
    "\n",
    "from pymatgen.ext.matproj import MPRester\n",
    "import json\n",
    "import matplotlib.pyplot as plt\n",
    "from pymatgen.analysis.phase_diagram import PhaseDiagram, PDPlotter"
   ]
  },
  {
   "cell_type": "code",
   "execution_count": null,
   "id": "92e0f16f-053c-4c30-8fbe-16e5e5c5f748",
   "metadata": {},
   "outputs": [],
   "source": []
  },
  {
   "cell_type": "code",
   "execution_count": 74,
   "id": "2569d712-393c-408d-b190-0c7f2ac883f4",
   "metadata": {},
   "outputs": [
    {
     "name": "stdin",
     "output_type": "stream",
     "text": [
      "Enter your OpenAI Token: ········\n"
     ]
    }
   ],
   "source": [
    "from getpass import getpass\n",
    "from langchain_openai import ChatOpenAI\n",
    "\n",
    "os.environ['OPENAI_API_KEY']=getpass(prompt='Enter your OpenAI Token:')\n",
    "model = ChatOpenAI(model=\"gpt-3.5-turbo\")"
   ]
  },
  {
   "cell_type": "code",
   "execution_count": 75,
   "id": "8571b576-0c80-4b99-b6a1-a6279533933a",
   "metadata": {},
   "outputs": [
    {
     "name": "stdin",
     "output_type": "stream",
     "text": [
      "Enter your MP_API_KEY: ········\n"
     ]
    }
   ],
   "source": [
    "os.environ['MP_API_KEY']=getpass(prompt='Enter your MP_API_KEY:')"
   ]
  },
  {
   "cell_type": "code",
   "execution_count": 76,
   "id": "3b6d8a8e-36bc-462c-ab8e-0e197b4fab6f",
   "metadata": {},
   "outputs": [],
   "source": [
    "from langchain.agents import tool\n",
    "\n",
    "# In general we would like to \n",
    "\n",
    "@tool\n",
    "def MP_get_entries_chem_sys(elem_list: list) -> list:\n",
    "    \"\"\" Function requests all entries availible in MP in chemical system via MPRester()\n",
    "    \"\"\"\n",
    "    all_symbols = ['H', 'He', 'Li', 'Be', 'B', 'C', 'N', 'O', 'F', 'Ne', 'Na',\n",
    "                   'Mg', 'Al', 'Si', 'P', 'S', 'Cl', 'Ar', 'K', 'Ca', 'Sc',\n",
    "                   'Ti', 'V', 'Cr', 'Mn', 'Fe', 'Co', 'Ni', 'Cu', 'Zn', 'Ga',\n",
    "                   'Ge', 'As', 'Se', 'Br', 'Kr', 'Rb', 'Sr', 'Y', 'Zr', 'Nb',\n",
    "                   'Mo', 'Tc', 'Ru', 'Rh', 'Pd', 'Ag', 'Cd', 'In', 'Sn', 'Sb',\n",
    "                   'Te', 'I', 'Xe', 'Cs', 'Ba', 'La', 'Ce', 'Pr', 'Nd', 'Pm',\n",
    "                   'Sm', 'Eu', 'Gd', 'Tb', 'Dy', 'Ho', 'Er', 'Tm', 'Yb', 'Lu',\n",
    "                   'Hf', 'Ta', 'W', 'Re', 'Os', 'Ir', 'Pt', 'Au', 'Hg', 'Tl',\n",
    "                   'Pb', 'Bi', 'Po', 'At', 'Rn', 'Fr', 'Ra', 'Ac', 'Th', 'Pa',\n",
    "                   'U', 'Np', 'Pu', 'Am', 'Cm', 'Bk', 'Cf', 'Es', 'Fm', 'Md',\n",
    "                   'No', 'Lr', 'Rf', 'Db', 'Sg', 'Bh', 'Hs', 'Mt', 'Ds', 'Rg',\n",
    "                   'Cn', 'Nh', 'Fl', 'Mc', 'Lv', 'Ts', 'Og']\n",
    "    a = MPRester()\n",
    "    if(set(elem_list) <= set(all_symbols)): \n",
    "        entries = a.get_entries_in_chemsys(elem_list)\n",
    "        compositions=[entry.composition.formula for entry in entries]\n",
    "    else:\n",
    "        entries=[]\n",
    "        compositions=[]\n",
    "    # entries can overflow the context window size, it may be better to write them in a file    \n",
    "    return compositions, entries"
   ]
  },
  {
   "cell_type": "code",
   "execution_count": 87,
   "id": "d31e087c-2079-45b2-9c8f-f1c55e12ae7e",
   "metadata": {},
   "outputs": [],
   "source": [
    "@tool\n",
    "def MP_plot_phase_diagram(elem_list: list) -> str:\n",
    "    \"\"\"\n",
    "    Function plots phase disgram for the chemical system defined by the list of elements\n",
    "    \"\"\"\n",
    "    all_symbols = ['H', 'He', 'Li', 'Be', 'B', 'C', 'N', 'O', 'F', 'Ne', 'Na',\n",
    "                   'Mg', 'Al', 'Si', 'P', 'S', 'Cl', 'Ar', 'K', 'Ca', 'Sc',\n",
    "                   'Ti', 'V', 'Cr', 'Mn', 'Fe', 'Co', 'Ni', 'Cu', 'Zn', 'Ga',\n",
    "                   'Ge', 'As', 'Se', 'Br', 'Kr', 'Rb', 'Sr', 'Y', 'Zr', 'Nb',\n",
    "                   'Mo', 'Tc', 'Ru', 'Rh', 'Pd', 'Ag', 'Cd', 'In', 'Sn', 'Sb',\n",
    "                   'Te', 'I', 'Xe', 'Cs', 'Ba', 'La', 'Ce', 'Pr', 'Nd', 'Pm',\n",
    "                   'Sm', 'Eu', 'Gd', 'Tb', 'Dy', 'Ho', 'Er', 'Tm', 'Yb', 'Lu',\n",
    "                   'Hf', 'Ta', 'W', 'Re', 'Os', 'Ir', 'Pt', 'Au', 'Hg', 'Tl',\n",
    "                   'Pb', 'Bi', 'Po', 'At', 'Rn', 'Fr', 'Ra', 'Ac', 'Th', 'Pa',\n",
    "                   'U', 'Np', 'Pu', 'Am', 'Cm', 'Bk', 'Cf', 'Es', 'Fm', 'Md',\n",
    "                   'No', 'Lr', 'Rf', 'Db', 'Sg', 'Bh', 'Hs', 'Mt', 'Ds', 'Rg',\n",
    "                   'Cn', 'Nh', 'Fl', 'Mc', 'Lv', 'Ts', 'Og']\n",
    "    a = MPRester()\n",
    "    if(set(elem_list) <= set(all_symbols)):\n",
    "        entries = a.get_entries_in_chemsys(elem_list)\n",
    "        phased = PhaseDiagram(entries)\n",
    "        pl = PDPlotter(phasediagram=phased, show_unstable=0.2, show_disorder=True, backend='plotly')  \n",
    "        pl.show()\n",
    "    return \"Describe phase diagram, in particular list stable compounds, and list unstable compounds. \\\n",
    "    Do you think there are other stable compounds in this chemical system?\""
   ]
  },
  {
   "cell_type": "markdown",
   "id": "75b1aab5-6a04-4274-9040-21b4272f9096",
   "metadata": {},
   "source": [
    "Note that passing intermediate information such as entries or phased between functions is problematic due to data type issue (agent can't work with complicated data types without help. And in this case it is complicated."
   ]
  },
  {
   "cell_type": "code",
   "execution_count": 88,
   "id": "be74c765-8f59-400f-8375-a21cc1b34530",
   "metadata": {},
   "outputs": [],
   "source": [
    "tools = [MP_get_entries_chem_sys, MP_plot_phase_diagram]"
   ]
  },
  {
   "cell_type": "code",
   "execution_count": 89,
   "id": "5a16bed9-ac36-4d32-bb47-909b0bed390e",
   "metadata": {},
   "outputs": [],
   "source": [
    "from langchain_core.prompts import ChatPromptTemplate, MessagesPlaceholder\n",
    "\n",
    "prompt = ChatPromptTemplate.from_messages(\n",
    "    [\n",
    "        (\n",
    "            \"system\",\n",
    "            \"You are very powerful assistant, but don't know current events. \\\n",
    "            Check that the input contains the list of chemical elements otherwise cancel\",\n",
    "        ),\n",
    "        (\n",
    "            \"system\",\n",
    "            \"You are very powerful assistant, but don't know current events. Check that the query is about the entries availible\\\n",
    "            in MP in chemical system described by the list or about plotting a phase diagram otherwise cancel\",\n",
    "        ),\n",
    "        (\"user\", \"{input}\"),\n",
    "        MessagesPlaceholder(variable_name=\"agent_scratchpad\"),\n",
    "    ]\n",
    ")"
   ]
  },
  {
   "cell_type": "code",
   "execution_count": 90,
   "id": "35cb2040-a6e6-4ee3-8813-e867176bf6f7",
   "metadata": {},
   "outputs": [],
   "source": [
    "model_with_tools = model.bind_tools(tools)"
   ]
  },
  {
   "cell_type": "code",
   "execution_count": 91,
   "id": "32163a83-3ecb-4d90-b460-6a4586d0dad8",
   "metadata": {},
   "outputs": [],
   "source": [
    "from langchain.agents.format_scratchpad.openai_tools import (\n",
    "    format_to_openai_tool_messages,\n",
    ")\n",
    "from langchain.agents.output_parsers.openai_tools import OpenAIToolsAgentOutputParser\n",
    "from langchain.memory import ChatMessageHistory, ConversationBufferMemory\n",
    "\n",
    "agent = (\n",
    "    {\n",
    "        \"input\": lambda x: x[\"input\"],\n",
    "        \"agent_scratchpad\": lambda x: format_to_openai_tool_messages(\n",
    "            x[\"intermediate_steps\"]\n",
    "        ),\n",
    "    }\n",
    "    | prompt\n",
    "    | model_with_tools\n",
    "    | OpenAIToolsAgentOutputParser()\n",
    ")"
   ]
  },
  {
   "cell_type": "code",
   "execution_count": 92,
   "id": "67d568ae-4d69-47c3-b025-515771fe5b31",
   "metadata": {},
   "outputs": [],
   "source": [
    "from langchain.agents import AgentExecutor\n",
    "\n",
    "agent_executor = AgentExecutor(agent=agent, tools=tools, verbose=True)"
   ]
  },
  {
   "cell_type": "markdown",
   "id": "35e32989-bf19-41d9-9714-770cdec70bfc",
   "metadata": {},
   "source": [
    "### Test drive of the agent"
   ]
  },
  {
   "cell_type": "code",
   "execution_count": 94,
   "id": "e6b91b92-2549-4c8d-bce9-e1867a4c7519",
   "metadata": {},
   "outputs": [
    {
     "name": "stdout",
     "output_type": "stream",
     "text": [
      "\n",
      "\n",
      "\u001b[1m> Entering new AgentExecutor chain...\u001b[0m\n",
      "\u001b[32;1m\u001b[1;3m\n",
      "Invoking: `MP_get_entries_chem_sys` with `{'elem_list': ['Ca', 'O']}`\n",
      "\n",
      "\n",
      "\u001b[0m"
     ]
    },
    {
     "data": {
      "application/vnd.jupyter.widget-view+json": {
       "model_id": "81a225a1b2c4441fababbcd0d452a960",
       "version_major": 2,
       "version_minor": 0
      },
      "text/plain": [
       "Retrieving ThermoDoc documents:   0%|          | 0/49 [00:00<?, ?it/s]"
      ]
     },
     "metadata": {},
     "output_type": "display_data"
    },
    {
     "name": "stdout",
     "output_type": "stream",
     "text": [
      "\u001b[36;1m\u001b[1;3m(['Ca2', 'Ca8', 'Ca1', 'Ca2', 'Ca1', 'Ca4', 'Ca1', 'Ca4', 'Ca1', 'Ca4', 'Ca1', 'Ca1', 'Ca50 O50', 'Ca2 O2', 'Ca16 O24', 'Ca1 O1', 'Ca50 O50', 'Ca4 O8', 'Ca4 O4', 'Ca50 O50', 'Ca2 O2', 'Ca4 O4', 'Ca1 O2', 'Ca2 O20', 'Ca1 O2', 'Ca1 O2', 'Ca2 O20', 'O8', 'O12', 'O12', 'O1', 'O1', 'O4', 'O8', 'O6', 'O10', 'O2', 'O8', 'O2', 'O6', 'O2', 'O24', 'O2', 'O4', 'O2', 'O12', 'O1', 'O2', 'O8'], [mp-1064227-GGA ComputedStructureEntry - Ca2          (Ca)\n",
      "Energy (Uncorrected)     = -3.9969   eV (-1.9985  eV/atom)\n",
      "Correction               = 0.0000    eV (0.0000   eV/atom)\n",
      "Energy (Final)           = -3.9969   eV (-1.9985  eV/atom)\n",
      "Energy Adjustments:\n",
      "  None\n",
      "Parameters:\n",
      "  potcar_spec            = [{'titel': 'PAW_PBE Ca_sv 06Sep2000', 'hash': 'eb006721e214c04b3c13146e81b3a27d'}]\n",
      "  is_hubbard             = False\n",
      "  hubbards               = {}\n",
      "  run_type               = GGA\n",
      "Data:\n",
      "  oxide_type             = None\n",
      "  aspherical             = True\n",
      "  last_updated           = 2020-11-12 01:39:55.907000\n",
      "  task_id                = mp-1783085\n",
      "  material_id            = mp-1064227\n",
      "  oxidation_states       = {}\n",
      "  run_type               = GGA, mp-1078638-GGA ComputedStructureEntry - Ca8          (Ca)\n",
      "Energy (Uncorrected)     = -15.8916  eV (-1.9864  eV/atom)\n",
      "Correction               = 0.0000    eV (0.0000   eV/atom)\n",
      "Energy (Final)           = -15.8916  eV (-1.9864  eV/atom)\n",
      "Energy Adjustments:\n",
      "  None\n",
      "Parameters:\n",
      "  potcar_spec            = [{'titel': 'PAW_PBE Ca_sv 06Sep2000', 'hash': 'eb006721e214c04b3c13146e81b3a27d'}]\n",
      "  is_hubbard             = False\n",
      "  hubbards               = {}\n",
      "  run_type               = GGA\n",
      "Data:\n",
      "  oxide_type             = None\n",
      "  aspherical             = True\n",
      "  last_updated           = 2020-05-02 06:41:31.831000\n",
      "  task_id                = mp-1426750\n",
      "  material_id            = mp-1078638\n",
      "  oxidation_states       = {}\n",
      "  run_type               = GGA, mp-166-GGA ComputedStructureEntry - Ca1          (Ca)\n",
      "Energy (Uncorrected)     = -1.9844   eV (-1.9844  eV/atom)\n",
      "Correction               = 0.0000    eV (0.0000   eV/atom)\n",
      "Energy (Final)           = -1.9844   eV (-1.9844  eV/atom)\n",
      "Energy Adjustments:\n",
      "  None\n",
      "Parameters:\n",
      "  potcar_spec            = [{'titel': 'PAW_PBE Ca_sv 06Sep2000', 'hash': 'eb006721e214c04b3c13146e81b3a27d'}]\n",
      "  is_hubbard             = False\n",
      "  hubbards               = {}\n",
      "  run_type               = GGA\n",
      "Data:\n",
      "  oxide_type             = None\n",
      "  aspherical             = True\n",
      "  last_updated           = 2020-11-11 01:01:13.123000\n",
      "  task_id                = mp-1792130\n",
      "  material_id            = mp-166\n",
      "  oxidation_states       = {}\n",
      "  run_type               = GGA, mp-132-GGA ComputedStructureEntry - Ca2          (Ca)\n",
      "Energy (Uncorrected)     = -3.9994   eV (-1.9997  eV/atom)\n",
      "Correction               = 0.0000    eV (0.0000   eV/atom)\n",
      "Energy (Final)           = -3.9994   eV (-1.9997  eV/atom)\n",
      "Energy Adjustments:\n",
      "  None\n",
      "Parameters:\n",
      "  potcar_spec            = [{'titel': 'PAW_PBE Ca_sv 06Sep2000', 'hash': 'eb006721e214c04b3c13146e81b3a27d'}]\n",
      "  is_hubbard             = False\n",
      "  hubbards               = {}\n",
      "  run_type               = GGA\n",
      "Data:\n",
      "  oxide_type             = None\n",
      "  aspherical             = True\n",
      "  last_updated           = 2022-06-09 10:38:11.151000\n",
      "  task_id                = mp-2300929\n",
      "  material_id            = mp-132\n",
      "  oxidation_states       = {}\n",
      "  run_type               = GGA, mp-1227541-GGA ComputedStructureEntry - Ca1          (Ca)\n",
      "Energy (Uncorrected)     = -1.0327   eV (-1.0327  eV/atom)\n",
      "Correction               = 0.0000    eV (0.0000   eV/atom)\n",
      "Energy (Final)           = -1.0327   eV (-1.0327  eV/atom)\n",
      "Energy Adjustments:\n",
      "  None\n",
      "Parameters:\n",
      "  potcar_spec            = [{'titel': 'PAW_PBE Ca_sv 06Sep2000', 'hash': 'eb006721e214c04b3c13146e81b3a27d'}]\n",
      "  is_hubbard             = False\n",
      "  hubbards               = {}\n",
      "  run_type               = GGA\n",
      "Data:\n",
      "  oxide_type             = None\n",
      "  aspherical             = True\n",
      "  last_updated           = 2021-02-05 09:08:11.822000\n",
      "  task_id                = mp-1814291\n",
      "  material_id            = mp-1227541\n",
      "  oxidation_states       = {}\n",
      "  run_type               = GGA, mp-1008498-GGA ComputedStructureEntry - Ca4          (Ca)\n",
      "Energy (Uncorrected)     = -7.3628   eV (-1.8407  eV/atom)\n",
      "Correction               = 0.0000    eV (0.0000   eV/atom)\n",
      "Energy (Final)           = -7.3628   eV (-1.8407  eV/atom)\n",
      "Energy Adjustments:\n",
      "  None\n",
      "Parameters:\n",
      "  potcar_spec            = [{'titel': 'PAW_PBE Ca_sv 06Sep2000', 'hash': 'eb006721e214c04b3c13146e81b3a27d'}]\n",
      "  is_hubbard             = False\n",
      "  hubbards               = {}\n",
      "  run_type               = GGA\n",
      "Data:\n",
      "  oxide_type             = None\n",
      "  aspherical             = True\n",
      "  last_updated           = 2020-05-02 02:10:55.260000\n",
      "  task_id                = mp-1436521\n",
      "  material_id            = mp-1008498\n",
      "  oxidation_states       = {}\n",
      "  run_type               = GGA, mp-10683-GGA ComputedStructureEntry - Ca1          (Ca)\n",
      "Energy (Uncorrected)     = -1.6060   eV (-1.6060  eV/atom)\n",
      "Correction               = 0.0000    eV (0.0000   eV/atom)\n",
      "Energy (Final)           = -1.6060   eV (-1.6060  eV/atom)\n",
      "Energy Adjustments:\n",
      "  None\n",
      "Parameters:\n",
      "  potcar_spec            = [{'titel': 'PAW_PBE Ca_sv 06Sep2000', 'hash': 'eb006721e214c04b3c13146e81b3a27d'}]\n",
      "  is_hubbard             = False\n",
      "  hubbards               = {}\n",
      "  run_type               = GGA\n",
      "Data:\n",
      "  oxide_type             = None\n",
      "  aspherical             = True\n",
      "  last_updated           = 2020-05-03 04:53:22.510000\n",
      "  task_id                = mp-1439964\n",
      "  material_id            = mp-10683\n",
      "  oxidation_states       = {}\n",
      "  run_type               = GGA, mp-1067285-GGA ComputedStructureEntry - Ca4          (Ca)\n",
      "Energy (Uncorrected)     = -6.9151   eV (-1.7288  eV/atom)\n",
      "Correction               = 0.0000    eV (0.0000   eV/atom)\n",
      "Energy (Final)           = -6.9151   eV (-1.7288  eV/atom)\n",
      "Energy Adjustments:\n",
      "  None\n",
      "Parameters:\n",
      "  potcar_spec            = [{'titel': 'PAW_PBE Ca_sv 06Sep2000', 'hash': 'eb006721e214c04b3c13146e81b3a27d'}]\n",
      "  is_hubbard             = False\n",
      "  hubbards               = {}\n",
      "  run_type               = GGA\n",
      "Data:\n",
      "  oxide_type             = None\n",
      "  aspherical             = True\n",
      "  last_updated           = 2020-05-02 19:48:19.442000\n",
      "  task_id                = mp-1426991\n",
      "  material_id            = mp-1067285\n",
      "  oxidation_states       = {}\n",
      "  run_type               = GGA, mp-21-GGA ComputedStructureEntry - Ca1          (Ca)\n",
      "Energy (Uncorrected)     = -1.9821   eV (-1.9821  eV/atom)\n",
      "Correction               = 0.0000    eV (0.0000   eV/atom)\n",
      "Energy (Final)           = -1.9821   eV (-1.9821  eV/atom)\n",
      "Energy Adjustments:\n",
      "  None\n",
      "Parameters:\n",
      "  potcar_spec            = [{'titel': 'PAW_PBE Ca_sv 06Sep2000', 'hash': 'eb006721e214c04b3c13146e81b3a27d'}]\n",
      "  is_hubbard             = False\n",
      "  hubbards               = {}\n",
      "  run_type               = GGA\n",
      "Data:\n",
      "  oxide_type             = None\n",
      "  aspherical             = True\n",
      "  last_updated           = 2021-02-06 20:28:47.845000\n",
      "  task_id                = mp-1861680\n",
      "  material_id            = mp-21\n",
      "  oxidation_states       = {}\n",
      "  run_type               = GGA, mp-1183484-GGA ComputedStructureEntry - Ca4          (Ca)\n",
      "Energy (Uncorrected)     = -7.9968   eV (-1.9992  eV/atom)\n",
      "Correction               = 0.0000    eV (0.0000   eV/atom)\n",
      "Energy (Final)           = -7.9968   eV (-1.9992  eV/atom)\n",
      "Energy Adjustments:\n",
      "  None\n",
      "Parameters:\n",
      "  potcar_spec            = [{'titel': 'PAW_PBE Ca_sv 06Sep2000', 'hash': 'eb006721e214c04b3c13146e81b3a27d'}]\n",
      "  is_hubbard             = False\n",
      "  hubbards               = {}\n",
      "  run_type               = GGA\n",
      "Data:\n",
      "  oxide_type             = None\n",
      "  aspherical             = True\n",
      "  last_updated           = 2021-02-05 13:37:18.110000\n",
      "  task_id                = mp-1828290\n",
      "  material_id            = mp-1183484\n",
      "  oxidation_states       = {}\n",
      "  run_type               = GGA, mp-45-GGA ComputedStructureEntry - Ca1          (Ca)\n",
      "Energy (Uncorrected)     = -2.0056   eV (-2.0056  eV/atom)\n",
      "Correction               = 0.0000    eV (0.0000   eV/atom)\n",
      "Energy (Final)           = -2.0056   eV (-2.0056  eV/atom)\n",
      "Energy Adjustments:\n",
      "  None\n",
      "Parameters:\n",
      "  potcar_spec            = [{'titel': 'PAW_PBE Ca_sv 06Sep2000', 'hash': 'eb006721e214c04b3c13146e81b3a27d'}]\n",
      "  is_hubbard             = False\n",
      "  hubbards               = {}\n",
      "  run_type               = GGA\n",
      "Data:\n",
      "  oxide_type             = None\n",
      "  aspherical             = True\n",
      "  last_updated           = 2020-11-11 20:44:09.538000\n",
      "  task_id                = mp-1791741\n",
      "  material_id            = mp-45\n",
      "  oxidation_states       = {}\n",
      "  run_type               = GGA, mp-1183455-GGA ComputedStructureEntry - Ca1          (Ca)\n",
      "Energy (Uncorrected)     = -1.9925   eV (-1.9925  eV/atom)\n",
      "Correction               = 0.0000    eV (0.0000   eV/atom)\n",
      "Energy (Final)           = -1.9925   eV (-1.9925  eV/atom)\n",
      "Energy Adjustments:\n",
      "  None\n",
      "Parameters:\n",
      "  potcar_spec            = [{'titel': 'PAW_PBE Ca_sv 06Sep2000', 'hash': 'eb006721e214c04b3c13146e81b3a27d'}]\n",
      "  is_hubbard             = False\n",
      "  hubbards               = {}\n",
      "  run_type               = GGA\n",
      "Data:\n",
      "  oxide_type             = None\n",
      "  aspherical             = True\n",
      "  last_updated           = 2020-11-12 10:10:55.101000\n",
      "  task_id                = mp-1791997\n",
      "  material_id            = mp-1183455\n",
      "  oxidation_states       = {}\n",
      "  run_type               = GGA, mp-1245200-GGA ComputedStructureEntry - Ca50 O50     (CaO)\n",
      "Energy (Uncorrected)     = -609.7797 eV (-6.0978  eV/atom)\n",
      "Correction               = -34.3500  eV (-0.3435  eV/atom)\n",
      "Energy (Final)           = -644.1297 eV (-6.4413  eV/atom)\n",
      "Energy Adjustments:\n",
      "  MP2020 anion correction (oxide): -34.3500  eV (-0.3435  eV/atom)\n",
      "Parameters:\n",
      "  potcar_spec            = [{'titel': 'PAW_PBE Ca_sv 06Sep2000', 'hash': 'eb006721e214c04b3c13146e81b3a27d'}, {'titel': 'PAW_PBE O 08Apr2002', 'hash': '7a25bc5b9a5393f46600a4939d357982'}]\n",
      "  is_hubbard             = False\n",
      "  hubbards               = {}\n",
      "  run_type               = GGA\n",
      "Data:\n",
      "  oxide_type             = oxide\n",
      "  aspherical             = False\n",
      "  last_updated           = 2019-07-02 00:39:50.010000\n",
      "  task_id                = mp-1245200\n",
      "  material_id            = mp-1245200\n",
      "  oxidation_states       = {'Ca': 2.0, 'O': -2.0}\n",
      "  run_type               = GGA, mp-545512-GGA ComputedStructureEntry - Ca2 O2       (CaO)\n",
      "Energy (Uncorrected)     = -25.4970  eV (-6.3743  eV/atom)\n",
      "Correction               = -1.3740   eV (-0.3435  eV/atom)\n",
      "Energy (Final)           = -26.8710  eV (-6.7178  eV/atom)\n",
      "Energy Adjustments:\n",
      "  MP2020 anion correction (oxide): -1.3740   eV (-0.3435  eV/atom)\n",
      "Parameters:\n",
      "  potcar_spec            = [{'titel': 'PAW_PBE Ca_sv 06Sep2000', 'hash': 'eb006721e214c04b3c13146e81b3a27d'}, {'titel': 'PAW_PBE O 08Apr2002', 'hash': '7a25bc5b9a5393f46600a4939d357982'}]\n",
      "  is_hubbard             = False\n",
      "  hubbards               = {}\n",
      "  run_type               = GGA\n",
      "Data:\n",
      "  oxide_type             = oxide\n",
      "  aspherical             = True\n",
      "  last_updated           = 2020-11-11 16:05:38.053000\n",
      "  task_id                = mp-1783527\n",
      "  material_id            = mp-545512\n",
      "  oxidation_states       = {'Ca': 2.0, 'O': -2.0}\n",
      "  run_type               = GGA, mp-1120811-GGA ComputedStructureEntry - Ca16 O24     (Ca2O3)\n",
      "Energy (Uncorrected)     = -231.6382 eV (-5.7910  eV/atom)\n",
      "Correction               = -16.4880  eV (-0.4122  eV/atom)\n",
      "Energy (Final)           = -248.1262 eV (-6.2032  eV/atom)\n",
      "Energy Adjustments:\n",
      "  MP2020 anion correction (oxide): -16.4880  eV (-0.4122  eV/atom)\n",
      "Parameters:\n",
      "  potcar_spec            = [{'titel': 'PAW_PBE Ca_sv 06Sep2000', 'hash': 'eb006721e214c04b3c13146e81b3a27d'}, {'titel': 'PAW_PBE O 08Apr2002', 'hash': '7a25bc5b9a5393f46600a4939d357982'}]\n",
      "  is_hubbard             = False\n",
      "  hubbards               = {}\n",
      "  run_type               = GGA\n",
      "Data:\n",
      "  oxide_type             = oxide\n",
      "  aspherical             = True\n",
      "  last_updated           = 2021-02-06 16:18:51.696000\n",
      "  task_id                = mp-1865927\n",
      "  material_id            = mp-1120811\n",
      "  oxidation_states       = {'Ca': 2.0, 'O': -1.3333333333333333}\n",
      "  run_type               = GGA, mp-2605-GGA ComputedStructureEntry - Ca1 O1       (CaO)\n",
      "Energy (Uncorrected)     = -12.8786  eV (-6.4393  eV/atom)\n",
      "Correction               = -0.6870   eV (-0.3435  eV/atom)\n",
      "Energy (Final)           = -13.5656  eV (-6.7828  eV/atom)\n",
      "Energy Adjustments:\n",
      "  MP2020 anion correction (oxide): -0.6870   eV (-0.3435  eV/atom)\n",
      "Parameters:\n",
      "  potcar_spec            = [{'titel': 'PAW_PBE Ca_sv 06Sep2000', 'hash': 'eb006721e214c04b3c13146e81b3a27d'}, {'titel': 'PAW_PBE O 08Apr2002', 'hash': '7a25bc5b9a5393f46600a4939d357982'}]\n",
      "  is_hubbard             = False\n",
      "  hubbards               = {}\n",
      "  run_type               = GGA\n",
      "Data:\n",
      "  oxide_type             = oxide\n",
      "  aspherical             = True\n",
      "  last_updated           = 2022-06-03 22:20:57.397000\n",
      "  task_id                = mp-2243072\n",
      "  material_id            = mp-2605\n",
      "  oxidation_states       = {'Ca': 2.0, 'O': -2.0}\n",
      "  run_type               = GGA, mp-1245305-GGA ComputedStructureEntry - Ca50 O50     (CaO)\n",
      "Energy (Uncorrected)     = -614.3922 eV (-6.1439  eV/atom)\n",
      "Correction               = -34.3500  eV (-0.3435  eV/atom)\n",
      "Energy (Final)           = -648.7422 eV (-6.4874  eV/atom)\n",
      "Energy Adjustments:\n",
      "  MP2020 anion correction (oxide): -34.3500  eV (-0.3435  eV/atom)\n",
      "Parameters:\n",
      "  potcar_spec            = [{'titel': 'PAW_PBE Ca_sv 06Sep2000', 'hash': 'eb006721e214c04b3c13146e81b3a27d'}, {'titel': 'PAW_PBE O 08Apr2002', 'hash': '7a25bc5b9a5393f46600a4939d357982'}]\n",
      "  is_hubbard             = False\n",
      "  hubbards               = {}\n",
      "  run_type               = GGA\n",
      "Data:\n",
      "  oxide_type             = oxide\n",
      "  aspherical             = False\n",
      "  last_updated           = 2019-07-02 00:44:58.385000\n",
      "  task_id                = mp-1245305\n",
      "  material_id            = mp-1245305\n",
      "  oxidation_states       = {'Ca': 2.0, 'O': -2.0}\n",
      "  run_type               = GGA, mp-1095665-GGA ComputedStructureEntry - Ca4 O8       (CaO2)\n",
      "Energy (Uncorrected)     = -65.1886  eV (-5.4324  eV/atom)\n",
      "Correction               = -5.4960   eV (-0.4580  eV/atom)\n",
      "Energy (Final)           = -70.6846  eV (-5.8904  eV/atom)\n",
      "Energy Adjustments:\n",
      "  MP2020 anion correction (oxide): -5.4960   eV (-0.4580  eV/atom)\n",
      "Parameters:\n",
      "  potcar_spec            = [{'titel': 'PAW_PBE Ca_sv 06Sep2000', 'hash': 'eb006721e214c04b3c13146e81b3a27d'}, {'titel': 'PAW_PBE O 08Apr2002', 'hash': '7a25bc5b9a5393f46600a4939d357982'}]\n",
      "  is_hubbard             = False\n",
      "  hubbards               = {}\n",
      "  run_type               = GGA\n",
      "Data:\n",
      "  oxide_type             = oxide\n",
      "  aspherical             = True\n",
      "  last_updated           = 2021-02-04 13:16:41.164000\n",
      "  task_id                = mp-1833094\n",
      "  material_id            = mp-1095665\n",
      "  oxidation_states       = {'Ca': 2.0, 'O': -1.0}\n",
      "  run_type               = GGA, mp-1181903-GGA ComputedStructureEntry - Ca4 O4       (CaO)\n",
      "Energy (Uncorrected)     = -29.6893  eV (-3.7112  eV/atom)\n",
      "Correction               = -2.7480   eV (-0.3435  eV/atom)\n",
      "Energy (Final)           = -32.4373  eV (-4.0547  eV/atom)\n",
      "Energy Adjustments:\n",
      "  MP2020 anion correction (oxide): -2.7480   eV (-0.3435  eV/atom)\n",
      "Parameters:\n",
      "  potcar_spec            = [{'titel': 'PAW_PBE Ca_sv 06Sep2000', 'hash': 'eb006721e214c04b3c13146e81b3a27d'}, {'titel': 'PAW_PBE O 08Apr2002', 'hash': '7a25bc5b9a5393f46600a4939d357982'}]\n",
      "  is_hubbard             = False\n",
      "  hubbards               = {}\n",
      "  run_type               = GGA\n",
      "Data:\n",
      "  oxide_type             = oxide\n",
      "  aspherical             = True\n",
      "  last_updated           = 2021-02-10 23:29:22.143000\n",
      "  task_id                = mp-1923803\n",
      "  material_id            = mp-1181903\n",
      "  oxidation_states       = {'Ca': 2.0, 'O': -2.0}\n",
      "  run_type               = GGA, mp-1244902-GGA ComputedStructureEntry - Ca50 O50     (CaO)\n",
      "Energy (Uncorrected)     = -612.8198 eV (-6.1282  eV/atom)\n",
      "Correction               = -34.3500  eV (-0.3435  eV/atom)\n",
      "Energy (Final)           = -647.1698 eV (-6.4717  eV/atom)\n",
      "Energy Adjustments:\n",
      "  MP2020 anion correction (oxide): -34.3500  eV (-0.3435  eV/atom)\n",
      "Parameters:\n",
      "  potcar_spec            = [{'titel': 'PAW_PBE Ca_sv 06Sep2000', 'hash': 'eb006721e214c04b3c13146e81b3a27d'}, {'titel': 'PAW_PBE O 08Apr2002', 'hash': '7a25bc5b9a5393f46600a4939d357982'}]\n",
      "  is_hubbard             = False\n",
      "  hubbards               = {}\n",
      "  run_type               = GGA\n",
      "Data:\n",
      "  oxide_type             = oxide\n",
      "  aspherical             = False\n",
      "  last_updated           = 2019-07-02 00:25:16.945000\n",
      "  task_id                = mp-1244902\n",
      "  material_id            = mp-1244902\n",
      "  oxidation_states       = {'Ca': 2.0, 'O': -2.0}\n",
      "  run_type               = GGA, mp-1064492-GGA ComputedStructureEntry - Ca2 O2       (CaO)\n",
      "Energy (Uncorrected)     = -24.9174  eV (-6.2294  eV/atom)\n",
      "Correction               = -1.3740   eV (-0.3435  eV/atom)\n",
      "Energy (Final)           = -26.2914  eV (-6.5729  eV/atom)\n",
      "Energy Adjustments:\n",
      "  MP2020 anion correction (oxide): -1.3740   eV (-0.3435  eV/atom)\n",
      "Parameters:\n",
      "  potcar_spec            = [{'titel': 'PAW_PBE Ca_sv 06Sep2000', 'hash': 'eb006721e214c04b3c13146e81b3a27d'}, {'titel': 'PAW_PBE O 08Apr2002', 'hash': '7a25bc5b9a5393f46600a4939d357982'}]\n",
      "  is_hubbard             = False\n",
      "  hubbards               = {}\n",
      "  run_type               = GGA\n",
      "Data:\n",
      "  oxide_type             = oxide\n",
      "  aspherical             = True\n",
      "  last_updated           = 2020-05-03 12:10:36.422000\n",
      "  task_id                = mp-1441102\n",
      "  material_id            = mp-1064492\n",
      "  oxidation_states       = {'Ca': 2.0, 'O': -2.0}\n",
      "  run_type               = GGA, mp-1079707-GGA ComputedStructureEntry - Ca4 O4       (CaO)\n",
      "Energy (Uncorrected)     = -49.8362  eV (-6.2295  eV/atom)\n",
      "Correction               = -2.7480   eV (-0.3435  eV/atom)\n",
      "Energy (Final)           = -52.5842  eV (-6.5730  eV/atom)\n",
      "Energy Adjustments:\n",
      "  MP2020 anion correction (oxide): -2.7480   eV (-0.3435  eV/atom)\n",
      "Parameters:\n",
      "  potcar_spec            = [{'titel': 'PAW_PBE Ca_sv 06Sep2000', 'hash': 'eb006721e214c04b3c13146e81b3a27d'}, {'titel': 'PAW_PBE O 08Apr2002', 'hash': '7a25bc5b9a5393f46600a4939d357982'}]\n",
      "  is_hubbard             = False\n",
      "  hubbards               = {}\n",
      "  run_type               = GGA\n",
      "Data:\n",
      "  oxide_type             = oxide\n",
      "  aspherical             = True\n",
      "  last_updated           = 2021-02-05 02:52:17.536000\n",
      "  task_id                = mp-1831065\n",
      "  material_id            = mp-1079707\n",
      "  oxidation_states       = {'Ca': 2.0, 'O': -2.0}\n",
      "  run_type               = GGA, mp-1181909-GGA ComputedStructureEntry - Ca1 O2       (CaO2)\n",
      "Energy (Uncorrected)     = -16.3034  eV (-5.4345  eV/atom)\n",
      "Correction               = -1.3740   eV (-0.4580  eV/atom)\n",
      "Energy (Final)           = -17.6774  eV (-5.8925  eV/atom)\n",
      "Energy Adjustments:\n",
      "  MP2020 anion correction (oxide): -1.3740   eV (-0.4580  eV/atom)\n",
      "Parameters:\n",
      "  potcar_spec            = [{'titel': 'PAW_PBE Ca_sv 06Sep2000', 'hash': 'eb006721e214c04b3c13146e81b3a27d'}, {'titel': 'PAW_PBE O 08Apr2002', 'hash': '7a25bc5b9a5393f46600a4939d357982'}]\n",
      "  is_hubbard             = False\n",
      "  hubbards               = {}\n",
      "  run_type               = GGA\n",
      "Data:\n",
      "  oxide_type             = oxide\n",
      "  aspherical             = True\n",
      "  last_updated           = 2020-11-11 18:17:28.556000\n",
      "  task_id                = mp-1795490\n",
      "  material_id            = mp-1181909\n",
      "  oxidation_states       = {'Ca': 2.0, 'O': -1.0}\n",
      "  run_type               = GGA, mp-1182382-GGA ComputedStructureEntry - Ca2 O20      (CaO10)\n",
      "Energy (Uncorrected)     = -111.8853 eV (-5.0857  eV/atom)\n",
      "Correction               = -3.2200   eV (-0.1464  eV/atom)\n",
      "Energy (Final)           = -115.1053 eV (-5.2321  eV/atom)\n",
      "Energy Adjustments:\n",
      "  MP2020 anion correction (superoxide): -3.2200   eV (-0.1464  eV/atom)\n",
      "Parameters:\n",
      "  potcar_spec            = [{'titel': 'PAW_PBE Ca_sv 06Sep2000', 'hash': 'eb006721e214c04b3c13146e81b3a27d'}, {'titel': 'PAW_PBE O 08Apr2002', 'hash': '7a25bc5b9a5393f46600a4939d357982'}]\n",
      "  is_hubbard             = False\n",
      "  hubbards               = {}\n",
      "  run_type               = GGA\n",
      "Data:\n",
      "  oxide_type             = superoxide\n",
      "  aspherical             = True\n",
      "  last_updated           = 2021-02-09 18:24:39.610000\n",
      "  task_id                = mp-1924607\n",
      "  material_id            = mp-1182382\n",
      "  oxidation_states       = {}\n",
      "  run_type               = GGA, mp-1062228-GGA ComputedStructureEntry - Ca1 O2       (CaO2)\n",
      "Energy (Uncorrected)     = -15.6641  eV (-5.2214  eV/atom)\n",
      "Correction               = -1.3740   eV (-0.4580  eV/atom)\n",
      "Energy (Final)           = -17.0381  eV (-5.6794  eV/atom)\n",
      "Energy Adjustments:\n",
      "  MP2020 anion correction (oxide): -1.3740   eV (-0.4580  eV/atom)\n",
      "Parameters:\n",
      "  potcar_spec            = [{'titel': 'PAW_PBE Ca_sv 06Sep2000', 'hash': 'eb006721e214c04b3c13146e81b3a27d'}, {'titel': 'PAW_PBE O 08Apr2002', 'hash': '7a25bc5b9a5393f46600a4939d357982'}]\n",
      "  is_hubbard             = False\n",
      "  hubbards               = {}\n",
      "  run_type               = GGA\n",
      "Data:\n",
      "  oxide_type             = oxide\n",
      "  aspherical             = True\n",
      "  last_updated           = 2022-06-08 13:42:16.390000\n",
      "  task_id                = mp-2294508\n",
      "  material_id            = mp-1062228\n",
      "  oxidation_states       = {'Ca': 2.0, 'O': -1.0}\n",
      "  run_type               = GGA, mp-634859-GGA ComputedStructureEntry - Ca1 O2       (CaO2)\n",
      "Energy (Uncorrected)     = -17.5912  eV (-5.8637  eV/atom)\n",
      "Correction               = -0.9300   eV (-0.3100  eV/atom)\n",
      "Energy (Final)           = -18.5212  eV (-6.1737  eV/atom)\n",
      "Energy Adjustments:\n",
      "  MP2020 anion correction (peroxide): -0.9300   eV (-0.3100  eV/atom)\n",
      "Parameters:\n",
      "  potcar_spec            = [{'titel': 'PAW_PBE Ca_sv 06Sep2000', 'hash': 'eb006721e214c04b3c13146e81b3a27d'}, {'titel': 'PAW_PBE O 08Apr2002', 'hash': '7a25bc5b9a5393f46600a4939d357982'}]\n",
      "  is_hubbard             = False\n",
      "  hubbards               = {}\n",
      "  run_type               = GGA\n",
      "Data:\n",
      "  oxide_type             = peroxide\n",
      "  aspherical             = True\n",
      "  last_updated           = 2022-06-08 14:44:39.195000\n",
      "  task_id                = mp-2290863\n",
      "  material_id            = mp-634859\n",
      "  oxidation_states       = {'Ca': 2.0, 'O': -1.0}\n",
      "  run_type               = GGA, mp-1182183-GGA ComputedStructureEntry - Ca2 O20      (CaO10)\n",
      "Energy (Uncorrected)     = -111.2843 eV (-5.0584  eV/atom)\n",
      "Correction               = -3.2200   eV (-0.1464  eV/atom)\n",
      "Energy (Final)           = -114.5043 eV (-5.2047  eV/atom)\n",
      "Energy Adjustments:\n",
      "  MP2020 anion correction (superoxide): -3.2200   eV (-0.1464  eV/atom)\n",
      "Parameters:\n",
      "  potcar_spec            = [{'titel': 'PAW_PBE Ca_sv 06Sep2000', 'hash': 'eb006721e214c04b3c13146e81b3a27d'}, {'titel': 'PAW_PBE O 08Apr2002', 'hash': '7a25bc5b9a5393f46600a4939d357982'}]\n",
      "  is_hubbard             = False\n",
      "  hubbards               = {}\n",
      "  run_type               = GGA\n",
      "Data:\n",
      "  oxide_type             = superoxide\n",
      "  aspherical             = True\n",
      "  last_updated           = 2020-05-03 15:04:54.665000\n",
      "  task_id                = mp-1430327\n",
      "  material_id            = mp-1182183\n",
      "  oxidation_states       = {}\n",
      "  run_type               = GGA, mp-1180050-GGA ComputedStructureEntry - O8           (O2)\n",
      "Energy (Uncorrected)     = -33.4315  eV (-4.1789  eV/atom)\n",
      "Correction               = 0.0000    eV (0.0000   eV/atom)\n",
      "Energy (Final)           = -33.4315  eV (-4.1789  eV/atom)\n",
      "Energy Adjustments:\n",
      "  None\n",
      "Parameters:\n",
      "  potcar_spec            = [{'titel': 'PAW_PBE O 08Apr2002', 'hash': '7a25bc5b9a5393f46600a4939d357982'}]\n",
      "  is_hubbard             = False\n",
      "  hubbards               = {}\n",
      "  run_type               = GGA\n",
      "Data:\n",
      "  oxide_type             = None\n",
      "  aspherical             = True\n",
      "  last_updated           = 2020-11-11 03:26:44.633000\n",
      "  task_id                = mp-1782062\n",
      "  material_id            = mp-1180050\n",
      "  oxidation_states       = {}\n",
      "  run_type               = GGA, mp-734188-GGA ComputedStructureEntry - O12          (O2)\n",
      "Energy (Uncorrected)     = -54.1586  eV (-4.5132  eV/atom)\n",
      "Correction               = 0.0000    eV (0.0000   eV/atom)\n",
      "Energy (Final)           = -54.1586  eV (-4.5132  eV/atom)\n",
      "Energy Adjustments:\n",
      "  None\n",
      "Parameters:\n",
      "  potcar_spec            = [{'titel': 'PAW_PBE O 08Apr2002', 'hash': '7a25bc5b9a5393f46600a4939d357982'}]\n",
      "  is_hubbard             = False\n",
      "  hubbards               = {}\n",
      "  run_type               = GGA\n",
      "Data:\n",
      "  oxide_type             = None\n",
      "  aspherical             = False\n",
      "  last_updated           = 2019-09-05 02:53:37.023000\n",
      "  task_id                = mp-734188\n",
      "  material_id            = mp-734188\n",
      "  oxidation_states       = {}\n",
      "  run_type               = GGA, mp-1180008-GGA ComputedStructureEntry - O12          (O2)\n",
      "Energy (Uncorrected)     = -54.3373  eV (-4.5281  eV/atom)\n",
      "Correction               = 0.0000    eV (0.0000   eV/atom)\n",
      "Energy (Final)           = -54.3373  eV (-4.5281  eV/atom)\n",
      "Energy Adjustments:\n",
      "  None\n",
      "Parameters:\n",
      "  potcar_spec            = [{'titel': 'PAW_PBE O 08Apr2002', 'hash': '7a25bc5b9a5393f46600a4939d357982'}]\n",
      "  is_hubbard             = False\n",
      "  hubbards               = {}\n",
      "  run_type               = GGA\n",
      "Data:\n",
      "  oxide_type             = None\n",
      "  aspherical             = True\n",
      "  last_updated           = 2020-05-02 19:03:25.919000\n",
      "  task_id                = mp-1408940\n",
      "  material_id            = mp-1180008\n",
      "  oxidation_states       = {}\n",
      "  run_type               = GGA, mp-1056831-GGA ComputedStructureEntry - O1           (O2)\n",
      "Energy (Uncorrected)     = -3.6369   eV (-3.6369  eV/atom)\n",
      "Correction               = 0.0000    eV (0.0000   eV/atom)\n",
      "Energy (Final)           = -3.6369   eV (-3.6369  eV/atom)\n",
      "Energy Adjustments:\n",
      "  None\n",
      "Parameters:\n",
      "  potcar_spec            = [{'titel': 'PAW_PBE O 08Apr2002', 'hash': '7a25bc5b9a5393f46600a4939d357982'}]\n",
      "  is_hubbard             = False\n",
      "  hubbards               = {}\n",
      "  run_type               = GGA\n",
      "Data:\n",
      "  oxide_type             = None\n",
      "  aspherical             = True\n",
      "  last_updated           = 2020-11-11 01:08:06.372000\n",
      "  task_id                = mp-1791372\n",
      "  material_id            = mp-1056831\n",
      "  oxidation_states       = {}\n",
      "  run_type               = GGA, mp-1056059-GGA ComputedStructureEntry - O1           (O2)\n",
      "Energy (Uncorrected)     = -3.3904   eV (-3.3904  eV/atom)\n",
      "Correction               = 0.0000    eV (0.0000   eV/atom)\n",
      "Energy (Final)           = -3.3904   eV (-3.3904  eV/atom)\n",
      "Energy Adjustments:\n",
      "  None\n",
      "Parameters:\n",
      "  potcar_spec            = [{'titel': 'PAW_PBE O 08Apr2002', 'hash': '7a25bc5b9a5393f46600a4939d357982'}]\n",
      "  is_hubbard             = False\n",
      "  hubbards               = {}\n",
      "  run_type               = GGA\n",
      "Data:\n",
      "  oxide_type             = None\n",
      "  aspherical             = True\n",
      "  last_updated           = 2020-11-10 22:49:23.672000\n",
      "  task_id                = mp-1792091\n",
      "  material_id            = mp-1056059\n",
      "  oxidation_states       = {}\n",
      "  run_type               = GGA, mp-1066100-GGA ComputedStructureEntry - O4           (O2)\n",
      "Energy (Uncorrected)     = -19.2890  eV (-4.8223  eV/atom)\n",
      "Correction               = 0.0000    eV (0.0000   eV/atom)\n",
      "Energy (Final)           = -19.2890  eV (-4.8223  eV/atom)\n",
      "Energy Adjustments:\n",
      "  None\n",
      "Parameters:\n",
      "  potcar_spec            = [{'titel': 'PAW_PBE O 08Apr2002', 'hash': '7a25bc5b9a5393f46600a4939d357982'}]\n",
      "  is_hubbard             = False\n",
      "  hubbards               = {}\n",
      "  run_type               = GGA\n",
      "Data:\n",
      "  oxide_type             = None\n",
      "  aspherical             = True\n",
      "  last_updated           = 2020-11-12 09:42:59.921000\n",
      "  task_id                = mp-1792752\n",
      "  material_id            = mp-1066100\n",
      "  oxidation_states       = {}\n",
      "  run_type               = GGA, mp-723285-GGA ComputedStructureEntry - O8           (O2)\n",
      "Energy (Uncorrected)     = -39.5735  eV (-4.9467  eV/atom)\n",
      "Correction               = 0.0000    eV (0.0000   eV/atom)\n",
      "Energy (Final)           = -39.5735  eV (-4.9467  eV/atom)\n",
      "Energy Adjustments:\n",
      "  None\n",
      "Parameters:\n",
      "  potcar_spec            = [{'titel': 'PAW_PBE O 08Apr2002', 'hash': '7a25bc5b9a5393f46600a4939d357982'}]\n",
      "  is_hubbard             = False\n",
      "  hubbards               = {}\n",
      "  run_type               = GGA\n",
      "Data:\n",
      "  oxide_type             = None\n",
      "  aspherical             = True\n",
      "  last_updated           = 2020-11-11 17:57:46.740000\n",
      "  task_id                = mp-1788458\n",
      "  material_id            = mp-723285\n",
      "  oxidation_states       = {}\n",
      "  run_type               = GGA, mp-2421172-GGA ComputedStructureEntry - O6           (O2)\n",
      "Energy (Uncorrected)     = -24.1902  eV (-4.0317  eV/atom)\n",
      "Correction               = 0.0000    eV (0.0000   eV/atom)\n",
      "Energy (Final)           = -24.1902  eV (-4.0317  eV/atom)\n",
      "Energy Adjustments:\n",
      "  None\n",
      "Parameters:\n",
      "  potcar_spec            = [{'titel': 'PAW_PBE O 08Apr2002', 'hash': '7a25bc5b9a5393f46600a4939d357982'}]\n",
      "  is_hubbard             = False\n",
      "  hubbards               = {}\n",
      "  run_type               = GGA\n",
      "Data:\n",
      "  oxide_type             = None\n",
      "  aspherical             = True\n",
      "  last_updated           = 2023-03-11 01:10:27.151000\n",
      "  task_id                = mp-2421172\n",
      "  material_id            = mp-2421172\n",
      "  oxidation_states       = {}\n",
      "  run_type               = GGA, mp-1180064-GGA ComputedStructureEntry - O10          (O2)\n",
      "Energy (Uncorrected)     = -45.6095  eV (-4.5609  eV/atom)\n",
      "Correction               = 0.0000    eV (0.0000   eV/atom)\n",
      "Energy (Final)           = -45.6095  eV (-4.5609  eV/atom)\n",
      "Energy Adjustments:\n",
      "  None\n",
      "Parameters:\n",
      "  potcar_spec            = [{'titel': 'PAW_PBE O 08Apr2002', 'hash': '7a25bc5b9a5393f46600a4939d357982'}]\n",
      "  is_hubbard             = False\n",
      "  hubbards               = {}\n",
      "  run_type               = GGA\n",
      "Data:\n",
      "  oxide_type             = None\n",
      "  aspherical             = True\n",
      "  last_updated           = 2021-02-09 10:26:30.076000\n",
      "  task_id                = mp-1926274\n",
      "  material_id            = mp-1180064\n",
      "  oxidation_states       = {}\n",
      "  run_type               = GGA, mp-1057818-GGA ComputedStructureEntry - O2           (O2)\n",
      "Energy (Uncorrected)     = -6.1342   eV (-3.0671  eV/atom)\n",
      "Correction               = 0.0000    eV (0.0000   eV/atom)\n",
      "Energy (Final)           = -6.1342   eV (-3.0671  eV/atom)\n",
      "Energy Adjustments:\n",
      "  None\n",
      "Parameters:\n",
      "  potcar_spec            = [{'titel': 'PAW_PBE O 08Apr2002', 'hash': '7a25bc5b9a5393f46600a4939d357982'}]\n",
      "  is_hubbard             = False\n",
      "  hubbards               = {}\n",
      "  run_type               = GGA\n",
      "Data:\n",
      "  oxide_type             = None\n",
      "  aspherical             = True\n",
      "  last_updated           = 2020-11-10 20:31:08.476000\n",
      "  task_id                = mp-1791289\n",
      "  material_id            = mp-1057818\n",
      "  oxidation_states       = {}\n",
      "  run_type               = GGA, mp-1087546-GGA ComputedStructureEntry - O8           (O2)\n",
      "Energy (Uncorrected)     = -39.4397  eV (-4.9300  eV/atom)\n",
      "Correction               = 0.0000    eV (0.0000   eV/atom)\n",
      "Energy (Final)           = -39.4397  eV (-4.9300  eV/atom)\n",
      "Energy Adjustments:\n",
      "  None\n",
      "Parameters:\n",
      "  potcar_spec            = [{'titel': 'PAW_PBE O 08Apr2002', 'hash': '7a25bc5b9a5393f46600a4939d357982'}]\n",
      "  is_hubbard             = False\n",
      "  hubbards               = {}\n",
      "  run_type               = GGA\n",
      "Data:\n",
      "  oxide_type             = None\n",
      "  aspherical             = True\n",
      "  last_updated           = 2020-11-11 22:35:36.628000\n",
      "  task_id                = mp-1778732\n",
      "  material_id            = mp-1087546\n",
      "  oxidation_states       = {}\n",
      "  run_type               = GGA, mp-1058623-GGA ComputedStructureEntry - O2           (O2)\n",
      "Energy (Uncorrected)     = -6.7546   eV (-3.3773  eV/atom)\n",
      "Correction               = 0.0000    eV (0.0000   eV/atom)\n",
      "Energy (Final)           = -6.7546   eV (-3.3773  eV/atom)\n",
      "Energy Adjustments:\n",
      "  None\n",
      "Parameters:\n",
      "  potcar_spec            = [{'titel': 'PAW_PBE O 08Apr2002', 'hash': '7a25bc5b9a5393f46600a4939d357982'}]\n",
      "  is_hubbard             = False\n",
      "  hubbards               = {}\n",
      "  run_type               = GGA\n",
      "Data:\n",
      "  oxide_type             = None\n",
      "  aspherical             = True\n",
      "  last_updated           = 2020-11-11 01:33:46.976000\n",
      "  task_id                = mp-1795177\n",
      "  material_id            = mp-1058623\n",
      "  oxidation_states       = {}\n",
      "  run_type               = GGA, mp-1023923-GGA ComputedStructureEntry - O6           (O2)\n",
      "Energy (Uncorrected)     = -23.9012  eV (-3.9835  eV/atom)\n",
      "Correction               = 0.0000    eV (0.0000   eV/atom)\n",
      "Energy (Final)           = -23.9012  eV (-3.9835  eV/atom)\n",
      "Energy Adjustments:\n",
      "  None\n",
      "Parameters:\n",
      "  potcar_spec            = [{'titel': 'PAW_PBE O 08Apr2002', 'hash': '7a25bc5b9a5393f46600a4939d357982'}]\n",
      "  is_hubbard             = False\n",
      "  hubbards               = {}\n",
      "  run_type               = GGA\n",
      "Data:\n",
      "  oxide_type             = None\n",
      "  aspherical             = True\n",
      "  last_updated           = 2020-11-12 10:42:29.470000\n",
      "  task_id                = mp-1795806\n",
      "  material_id            = mp-1023923\n",
      "  oxidation_states       = {}\n",
      "  run_type               = GGA, mp-611836-GGA ComputedStructureEntry - O2           (O2)\n",
      "Energy (Uncorrected)     = -9.8760   eV (-4.9380  eV/atom)\n",
      "Correction               = 0.0000    eV (0.0000   eV/atom)\n",
      "Energy (Final)           = -9.8760   eV (-4.9380  eV/atom)\n",
      "Energy Adjustments:\n",
      "  None\n",
      "Parameters:\n",
      "  potcar_spec            = [{'titel': 'PAW_PBE O 08Apr2002', 'hash': '7a25bc5b9a5393f46600a4939d357982'}]\n",
      "  is_hubbard             = False\n",
      "  hubbards               = {}\n",
      "  run_type               = GGA\n",
      "Data:\n",
      "  oxide_type             = None\n",
      "  aspherical             = True\n",
      "  last_updated           = 2020-11-11 10:36:11.663000\n",
      "  task_id                = mp-1783424\n",
      "  material_id            = mp-611836\n",
      "  oxidation_states       = {}\n",
      "  run_type               = GGA, mp-560602-GGA ComputedStructureEntry - O24          (O2)\n",
      "Energy (Uncorrected)     = -108.8799 eV (-4.5367  eV/atom)\n",
      "Correction               = 0.0000    eV (0.0000   eV/atom)\n",
      "Energy (Final)           = -108.8799 eV (-4.5367  eV/atom)\n",
      "Energy Adjustments:\n",
      "  None\n",
      "Parameters:\n",
      "  potcar_spec            = [{'titel': 'PAW_PBE O 08Apr2002', 'hash': '7a25bc5b9a5393f46600a4939d357982'}]\n",
      "  is_hubbard             = False\n",
      "  hubbards               = {}\n",
      "  run_type               = GGA\n",
      "Data:\n",
      "  oxide_type             = None\n",
      "  aspherical             = True\n",
      "  last_updated           = 2021-02-05 07:13:58.914000\n",
      "  task_id                = mp-1843763\n",
      "  material_id            = mp-560602\n",
      "  oxidation_states       = {}\n",
      "  run_type               = GGA, mp-1009490-GGA ComputedStructureEntry - O2           (O2)\n",
      "Energy (Uncorrected)     = -9.8925   eV (-4.9462  eV/atom)\n",
      "Correction               = 0.0000    eV (0.0000   eV/atom)\n",
      "Energy (Final)           = -9.8925   eV (-4.9462  eV/atom)\n",
      "Energy Adjustments:\n",
      "  None\n",
      "Parameters:\n",
      "  potcar_spec            = [{'titel': 'PAW_PBE O 08Apr2002', 'hash': '7a25bc5b9a5393f46600a4939d357982'}]\n",
      "  is_hubbard             = False\n",
      "  hubbards               = {}\n",
      "  run_type               = GGA\n",
      "Data:\n",
      "  oxide_type             = None\n",
      "  aspherical             = True\n",
      "  last_updated           = 2020-05-02 10:40:40.906000\n",
      "  task_id                = mp-1430764\n",
      "  material_id            = mp-1009490\n",
      "  oxidation_states       = {}\n",
      "  run_type               = GGA, mp-1180036-GGA ComputedStructureEntry - O4           (O2)\n",
      "Energy (Uncorrected)     = -19.6719  eV (-4.9180  eV/atom)\n",
      "Correction               = 0.0000    eV (0.0000   eV/atom)\n",
      "Energy (Final)           = -19.6719  eV (-4.9180  eV/atom)\n",
      "Energy Adjustments:\n",
      "  None\n",
      "Parameters:\n",
      "  potcar_spec            = [{'titel': 'PAW_PBE O 08Apr2002', 'hash': '7a25bc5b9a5393f46600a4939d357982'}]\n",
      "  is_hubbard             = False\n",
      "  hubbards               = {}\n",
      "  run_type               = GGA\n",
      "Data:\n",
      "  oxide_type             = None\n",
      "  aspherical             = True\n",
      "  last_updated           = 2020-11-12 05:38:21.406000\n",
      "  task_id                = mp-1794940\n",
      "  material_id            = mp-1180036\n",
      "  oxidation_states       = {}\n",
      "  run_type               = GGA, mp-607540-GGA ComputedStructureEntry - O2           (O2)\n",
      "Energy (Uncorrected)     = -9.6536   eV (-4.8268  eV/atom)\n",
      "Correction               = 0.0000    eV (0.0000   eV/atom)\n",
      "Energy (Final)           = -9.6536   eV (-4.8268  eV/atom)\n",
      "Energy Adjustments:\n",
      "  None\n",
      "Parameters:\n",
      "  potcar_spec            = [{'titel': 'PAW_PBE O 08Apr2002', 'hash': '7a25bc5b9a5393f46600a4939d357982'}]\n",
      "  is_hubbard             = False\n",
      "  hubbards               = {}\n",
      "  run_type               = GGA\n",
      "Data:\n",
      "  oxide_type             = None\n",
      "  aspherical             = True\n",
      "  last_updated           = 2022-06-08 17:35:16.352000\n",
      "  task_id                = mp-2296391\n",
      "  material_id            = mp-607540\n",
      "  oxidation_states       = {}\n",
      "  run_type               = GGA, mp-1102442-GGA ComputedStructureEntry - O12          (O2)\n",
      "Energy (Uncorrected)     = -50.5007  eV (-4.2084  eV/atom)\n",
      "Correction               = 0.0000    eV (0.0000   eV/atom)\n",
      "Energy (Final)           = -50.5007  eV (-4.2084  eV/atom)\n",
      "Energy Adjustments:\n",
      "  None\n",
      "Parameters:\n",
      "  potcar_spec            = [{'titel': 'PAW_PBE O 08Apr2002', 'hash': '7a25bc5b9a5393f46600a4939d357982'}]\n",
      "  is_hubbard             = False\n",
      "  hubbards               = {}\n",
      "  run_type               = GGA\n",
      "Data:\n",
      "  oxide_type             = None\n",
      "  aspherical             = True\n",
      "  last_updated           = 2020-08-03 18:28:37.165000\n",
      "  task_id                = mp-1773594\n",
      "  material_id            = mp-1102442\n",
      "  oxidation_states       = {}\n",
      "  run_type               = GGA, mp-1065697-GGA ComputedStructureEntry - O1           (O2)\n",
      "Energy (Uncorrected)     = -3.3686   eV (-3.3686  eV/atom)\n",
      "Correction               = 0.0000    eV (0.0000   eV/atom)\n",
      "Energy (Final)           = -3.3686   eV (-3.3686  eV/atom)\n",
      "Energy Adjustments:\n",
      "  None\n",
      "Parameters:\n",
      "  potcar_spec            = [{'titel': 'PAW_PBE O 08Apr2002', 'hash': '7a25bc5b9a5393f46600a4939d357982'}]\n",
      "  is_hubbard             = False\n",
      "  hubbards               = {}\n",
      "  run_type               = GGA\n",
      "Data:\n",
      "  oxide_type             = None\n",
      "  aspherical             = True\n",
      "  last_updated           = 2020-11-11 05:21:37.803000\n",
      "  task_id                = mp-1792966\n",
      "  material_id            = mp-1065697\n",
      "  oxidation_states       = {}\n",
      "  run_type               = GGA, mp-610917-GGA ComputedStructureEntry - O2           (O2)\n",
      "Energy (Uncorrected)     = -9.8717   eV (-4.9359  eV/atom)\n",
      "Correction               = 0.0000    eV (0.0000   eV/atom)\n",
      "Energy (Final)           = -9.8717   eV (-4.9359  eV/atom)\n",
      "Energy Adjustments:\n",
      "  None\n",
      "Parameters:\n",
      "  potcar_spec            = [{'titel': 'PAW_PBE O 08Apr2002', 'hash': '7a25bc5b9a5393f46600a4939d357982'}]\n",
      "  is_hubbard             = False\n",
      "  hubbards               = {}\n",
      "  run_type               = GGA\n",
      "Data:\n",
      "  oxide_type             = None\n",
      "  aspherical             = True\n",
      "  last_updated           = 2020-11-11 06:05:36.522000\n",
      "  task_id                = mp-1794498\n",
      "  material_id            = mp-610917\n",
      "  oxidation_states       = {}\n",
      "  run_type               = GGA, mp-12957-GGA ComputedStructureEntry - O8           (O2)\n",
      "Energy (Uncorrected)     = -39.5837  eV (-4.9480  eV/atom)\n",
      "Correction               = 0.0000    eV (0.0000   eV/atom)\n",
      "Energy (Final)           = -39.5837  eV (-4.9480  eV/atom)\n",
      "Energy Adjustments:\n",
      "  None\n",
      "Parameters:\n",
      "  potcar_spec            = [{'titel': 'PAW_PBE O 08Apr2002', 'hash': '7a25bc5b9a5393f46600a4939d357982'}]\n",
      "  is_hubbard             = False\n",
      "  hubbards               = {}\n",
      "  run_type               = GGA\n",
      "Data:\n",
      "  oxide_type             = None\n",
      "  aspherical             = True\n",
      "  last_updated           = 2021-02-09 14:01:06.018000\n",
      "  task_id                = mp-1933400\n",
      "  material_id            = mp-12957\n",
      "  oxidation_states       = {}\n",
      "  run_type               = GGA])\u001b[0m\u001b[32;1m\u001b[1;3mThere are several entries available in the chemical system ['Ca', 'O']. Here is a summary of the information:\n",
      "\n",
      "1. Total number of entries: 33\n",
      "2. Number of unique entries (without repetitions): 21\n",
      "3. Number of entries containing both elements (Ca and O): 9\n",
      "\n",
      "Here is a list of material-ids for the entries that contain both elements:\n",
      "- mp-1245200\n",
      "- mp-545512\n",
      "- mp-1120811\n",
      "- mp-2294508\n",
      "- mp-1095665\n",
      "- mp-1181903\n",
      "- mp-1182382\n",
      "- mp-1062228\n",
      "- mp-634859\n",
      "\n",
      "The material with the lowest energy per atom (Final) is:\n",
      "- Material-id: mp-1245200\n",
      "- Energy per atom: -6.4413 eV/atom\n",
      "- Chemical formula: Ca50 O50\n",
      "\n",
      "Please let me know if you need any more information or assistance!\u001b[0m\n",
      "\n",
      "\u001b[1m> Finished chain.\u001b[0m\n"
     ]
    }
   ],
   "source": [
    "lst=list(agent_executor.stream({\"input\": \"How many entries are availible in chemical system ['Ca','O']?Are there any repetitions? \\\n",
    "How many of those contain both elements? Make a list of material-ids.\\\n",
    "Which material has the lowest energy per atom (Final)? Print the value of energy per atom. Print its chemical formula and material-id.\"}))"
   ]
  },
  {
   "cell_type": "markdown",
   "id": "8fac804e-d4fa-46d1-bebe-877c90d8d027",
   "metadata": {},
   "source": [
    "#### Note: Actually correct answer is 49 entries overall (20 if we take set from the list) and 15 contain both elements (8 if we take set from the list). There are also compounds with the same composition, but different formulas, which LLM sould not be able to deal with without special tools."
   ]
  },
  {
   "cell_type": "code",
   "execution_count": 95,
   "id": "c508d182-bcaa-4cf8-a1ae-55e816f9f81e",
   "metadata": {},
   "outputs": [
    {
     "name": "stdout",
     "output_type": "stream",
     "text": [
      "\n",
      "\n",
      "\u001b[1m> Entering new AgentExecutor chain...\u001b[0m\n",
      "\u001b[32;1m\u001b[1;3m\n",
      "Invoking: `MP_plot_phase_diagram` with `{'elem_list': ['Ca', 'O']}`\n",
      "\n",
      "\n",
      "\u001b[0m"
     ]
    },
    {
     "data": {
      "application/vnd.jupyter.widget-view+json": {
       "model_id": "f5f7bd0172064779aa2ac1ad03b8e5aa",
       "version_major": 2,
       "version_minor": 0
      },
      "text/plain": [
       "Retrieving ThermoDoc documents:   0%|          | 0/49 [00:00<?, ?it/s]"
      ]
     },
     "metadata": {},
     "output_type": "display_data"
    },
    {
     "data": {
      "application/vnd.plotly.v1+json": {
       "config": {
        "plotlyServerURL": "https://plot.ly"
       },
       "data": [
        {
         "hoverinfo": "none",
         "line": {
          "color": "black",
          "width": 4
         },
         "mode": "lines",
         "showlegend": false,
         "type": "scatter",
         "x": [
          0.5,
          0.6666666666666666,
          null,
          0.6666666666666666,
          1,
          null,
          0.5,
          0,
          null
         ],
         "y": [
          -3.3060193924999997,
          -2.206560153333333,
          null,
          -2.206560153333333,
          0,
          null,
          -3.3060193924999997,
          0,
          null
         ]
        },
        {
         "hoverinfo": "skip",
         "mode": "text",
         "name": "Labels (stable)",
         "opacity": 1,
         "showlegend": true,
         "text": [
          "CaO",
          "CaO<sub>2</sub>"
         ],
         "textposition": [
          "bottom right",
          "bottom right"
         ],
         "type": "scatter",
         "visible": true,
         "x": [
          0.508,
          0.6746666666666666
         ],
         "y": [
          -3.3190193924999996,
          -2.219560153333333
         ]
        },
        {
         "error_y": {
          "array": [
           0,
           0,
           0,
           0
          ],
          "color": "gray",
          "thickness": 2.5,
          "type": "data",
          "width": 5
         },
         "hoverinfo": "text",
         "hoverlabel": {
          "font": {
           "size": 14
          }
         },
         "hovertext": [
          "CaO (mp-2605-GGA) <br> -3.306 eV/atom (Stable)",
          "CaO<sub>2</sub> (mp-634859-GGA) <br> -2.207 eV/atom (Stable)",
          "O<sub>2</sub> (mp-12957-GGA) <br> 0.0 eV/atom (Stable)",
          "Ca (mp-45-GGA) <br> 0.0 eV/atom (Stable)"
         ],
         "marker": {
          "color": "darkgreen",
          "line": {
           "color": "black",
           "width": 2
          },
          "size": 16
         },
         "mode": "markers",
         "name": "Stable",
         "opacity": 0.99,
         "showlegend": true,
         "type": "scatter",
         "x": [
          0.5,
          0.6666666666666666,
          1,
          0
         ],
         "y": [
          -3.3060193924999997,
          -2.206560153333333,
          0,
          0
         ]
        },
        {
         "hoverinfo": "text",
         "hoverlabel": {
          "font": {
           "size": 14
          }
         },
         "hovertext": [
          "O<sub>2</sub> (mp-1066100-GGA) <br> 0.126 eV/atom (+0.126 eV/atom)",
          "O<sub>2</sub> (mp-723285-GGA) <br> 0.001 eV/atom (+0.001 eV/atom)",
          "O<sub>2</sub> (mp-1087546-GGA) <br> 0.018 eV/atom (+0.018 eV/atom)",
          "O<sub>2</sub> (mp-611836-GGA) <br> 0.01 eV/atom (+0.01 eV/atom)",
          "O<sub>2</sub> (mp-1009490-GGA) <br> 0.002 eV/atom (+0.002 eV/atom)",
          "O<sub>2</sub> (mp-1180036-GGA) <br> 0.03 eV/atom (+0.03 eV/atom)",
          "O<sub>2</sub> (mp-607540-GGA) <br> 0.121 eV/atom (+0.121 eV/atom)",
          "O<sub>2</sub> (mp-610917-GGA) <br> 0.012 eV/atom (+0.012 eV/atom)",
          "Ca (mp-1064227-GGA) <br> 0.007 eV/atom (+0.007 eV/atom)",
          "Ca (mp-1078638-GGA) <br> 0.019 eV/atom (+0.019 eV/atom)",
          "Ca (mp-166-GGA) <br> 0.021 eV/atom (+0.021 eV/atom)",
          "Ca (mp-132-GGA) <br> 0.006 eV/atom (+0.006 eV/atom)",
          "Ca (mp-1008498-GGA) <br> 0.165 eV/atom (+0.165 eV/atom)",
          "Ca (mp-21-GGA) <br> 0.024 eV/atom (+0.024 eV/atom)",
          "Ca (mp-1183484-GGA) <br> 0.006 eV/atom (+0.006 eV/atom)",
          "Ca (mp-1183455-GGA) <br> 0.013 eV/atom (+0.013 eV/atom)",
          "CaO (mp-545512-GGA) <br> -3.241 eV/atom (+0.065 eV/atom)",
          "CaO<sub>10</sub> (mp-1182382-GGA) <br> -0.552 eV/atom (+0.05 eV/atom)",
          "CaO<sub>10</sub> (mp-1182183-GGA) <br> -0.524 eV/atom (+0.078 eV/atom)"
         ],
         "marker": {
          "color": [
           0.126,
           0.001,
           0.018,
           0.01,
           0.002,
           0.03,
           0.121,
           0.012,
           0.007,
           0.019,
           0.021,
           0.006,
           0.165,
           0.024,
           0.006,
           0.013,
           0.065,
           0.05,
           0.078
          ],
          "colorscale": [
           [
            0,
            "#fff5e3"
           ],
           [
            0.5,
            "#f24324"
           ],
           [
            1,
            "#c40000"
           ]
          ],
          "line": {
           "color": "black",
           "width": 1
          },
          "opacity": 0.8,
          "size": 7,
          "symbol": "diamond"
         },
         "mode": "markers",
         "name": "Above Hull",
         "showlegend": true,
         "type": "scatter",
         "x": [
          1,
          1,
          1,
          1,
          1,
          1,
          1,
          1,
          0,
          0,
          0,
          0,
          0,
          0,
          0,
          0,
          0.5,
          0.9090909090909091,
          0.9090909090909091
         ],
         "y": [
          0.12571025749999976,
          0.0012722937499995979,
          0.017992666249999623,
          0.009970109999999366,
          0.0017175900000001576,
          0.029974092499999827,
          0.12115633999999975,
          0.012108549999999774,
          0.007139435000000027,
          0.01915200125000016,
          0.021217790000000125,
          0.005909895000000054,
          0.1649100175,
          0.023542050000000092,
          0.006399707500000185,
          0.013071680000000141,
          -3.2409813475,
          -0.5515857118181823,
          -0.5242677372727275
         ]
        }
       ],
       "layout": {
        "annotations": [
         {
          "align": "center",
          "font": {
           "color": "#000000",
           "size": 24
          },
          "opacity": 1,
          "showarrow": false,
          "text": "O",
          "x": 1.03,
          "xref": "x",
          "y": -0.03,
          "yref": "y"
         },
         {
          "align": "center",
          "font": {
           "color": "#000000",
           "size": 24
          },
          "opacity": 1,
          "showarrow": false,
          "text": "Ca",
          "x": -0.03,
          "xref": "x",
          "y": -0.03,
          "yref": "y"
         }
        ],
        "autosize": true,
        "coloraxis": {
         "colorbar": {
          "x": 1,
          "y": 0.05,
          "yanchor": "top"
         }
        },
        "hovermode": "closest",
        "legend": {
         "orientation": "h",
         "tracegroupgap": 7,
         "traceorder": "reversed",
         "x": 0,
         "xanchor": "left",
         "y": 1.05
        },
        "margin": {
         "b": 10,
         "l": 10,
         "pad": 0,
         "r": 10,
         "t": 0
        },
        "paper_bgcolor": "rgba(0, 0, 0, 0)",
        "plot_bgcolor": "rgba(0, 0, 0, 0)",
        "showlegend": true,
        "template": {
         "data": {
          "bar": [
           {
            "error_x": {
             "color": "rgb(36,36,36)"
            },
            "error_y": {
             "color": "rgb(36,36,36)"
            },
            "marker": {
             "line": {
              "color": "white",
              "width": 0.5
             },
             "pattern": {
              "fillmode": "overlay",
              "size": 10,
              "solidity": 0.2
             }
            },
            "type": "bar"
           }
          ],
          "barpolar": [
           {
            "marker": {
             "line": {
              "color": "white",
              "width": 0.5
             },
             "pattern": {
              "fillmode": "overlay",
              "size": 10,
              "solidity": 0.2
             }
            },
            "type": "barpolar"
           }
          ],
          "carpet": [
           {
            "aaxis": {
             "endlinecolor": "rgb(36,36,36)",
             "gridcolor": "white",
             "linecolor": "white",
             "minorgridcolor": "white",
             "startlinecolor": "rgb(36,36,36)"
            },
            "baxis": {
             "endlinecolor": "rgb(36,36,36)",
             "gridcolor": "white",
             "linecolor": "white",
             "minorgridcolor": "white",
             "startlinecolor": "rgb(36,36,36)"
            },
            "type": "carpet"
           }
          ],
          "choropleth": [
           {
            "colorbar": {
             "outlinewidth": 1,
             "tickcolor": "rgb(36,36,36)",
             "ticks": "outside"
            },
            "type": "choropleth"
           }
          ],
          "contour": [
           {
            "colorbar": {
             "outlinewidth": 1,
             "tickcolor": "rgb(36,36,36)",
             "ticks": "outside"
            },
            "colorscale": [
             [
              0,
              "#440154"
             ],
             [
              0.1111111111111111,
              "#482878"
             ],
             [
              0.2222222222222222,
              "#3e4989"
             ],
             [
              0.3333333333333333,
              "#31688e"
             ],
             [
              0.4444444444444444,
              "#26828e"
             ],
             [
              0.5555555555555556,
              "#1f9e89"
             ],
             [
              0.6666666666666666,
              "#35b779"
             ],
             [
              0.7777777777777778,
              "#6ece58"
             ],
             [
              0.8888888888888888,
              "#b5de2b"
             ],
             [
              1,
              "#fde725"
             ]
            ],
            "type": "contour"
           }
          ],
          "contourcarpet": [
           {
            "colorbar": {
             "outlinewidth": 1,
             "tickcolor": "rgb(36,36,36)",
             "ticks": "outside"
            },
            "type": "contourcarpet"
           }
          ],
          "heatmap": [
           {
            "colorbar": {
             "outlinewidth": 1,
             "tickcolor": "rgb(36,36,36)",
             "ticks": "outside"
            },
            "colorscale": [
             [
              0,
              "#440154"
             ],
             [
              0.1111111111111111,
              "#482878"
             ],
             [
              0.2222222222222222,
              "#3e4989"
             ],
             [
              0.3333333333333333,
              "#31688e"
             ],
             [
              0.4444444444444444,
              "#26828e"
             ],
             [
              0.5555555555555556,
              "#1f9e89"
             ],
             [
              0.6666666666666666,
              "#35b779"
             ],
             [
              0.7777777777777778,
              "#6ece58"
             ],
             [
              0.8888888888888888,
              "#b5de2b"
             ],
             [
              1,
              "#fde725"
             ]
            ],
            "type": "heatmap"
           }
          ],
          "heatmapgl": [
           {
            "colorbar": {
             "outlinewidth": 1,
             "tickcolor": "rgb(36,36,36)",
             "ticks": "outside"
            },
            "colorscale": [
             [
              0,
              "#440154"
             ],
             [
              0.1111111111111111,
              "#482878"
             ],
             [
              0.2222222222222222,
              "#3e4989"
             ],
             [
              0.3333333333333333,
              "#31688e"
             ],
             [
              0.4444444444444444,
              "#26828e"
             ],
             [
              0.5555555555555556,
              "#1f9e89"
             ],
             [
              0.6666666666666666,
              "#35b779"
             ],
             [
              0.7777777777777778,
              "#6ece58"
             ],
             [
              0.8888888888888888,
              "#b5de2b"
             ],
             [
              1,
              "#fde725"
             ]
            ],
            "type": "heatmapgl"
           }
          ],
          "histogram": [
           {
            "marker": {
             "line": {
              "color": "white",
              "width": 0.6
             }
            },
            "type": "histogram"
           }
          ],
          "histogram2d": [
           {
            "colorbar": {
             "outlinewidth": 1,
             "tickcolor": "rgb(36,36,36)",
             "ticks": "outside"
            },
            "colorscale": [
             [
              0,
              "#440154"
             ],
             [
              0.1111111111111111,
              "#482878"
             ],
             [
              0.2222222222222222,
              "#3e4989"
             ],
             [
              0.3333333333333333,
              "#31688e"
             ],
             [
              0.4444444444444444,
              "#26828e"
             ],
             [
              0.5555555555555556,
              "#1f9e89"
             ],
             [
              0.6666666666666666,
              "#35b779"
             ],
             [
              0.7777777777777778,
              "#6ece58"
             ],
             [
              0.8888888888888888,
              "#b5de2b"
             ],
             [
              1,
              "#fde725"
             ]
            ],
            "type": "histogram2d"
           }
          ],
          "histogram2dcontour": [
           {
            "colorbar": {
             "outlinewidth": 1,
             "tickcolor": "rgb(36,36,36)",
             "ticks": "outside"
            },
            "colorscale": [
             [
              0,
              "#440154"
             ],
             [
              0.1111111111111111,
              "#482878"
             ],
             [
              0.2222222222222222,
              "#3e4989"
             ],
             [
              0.3333333333333333,
              "#31688e"
             ],
             [
              0.4444444444444444,
              "#26828e"
             ],
             [
              0.5555555555555556,
              "#1f9e89"
             ],
             [
              0.6666666666666666,
              "#35b779"
             ],
             [
              0.7777777777777778,
              "#6ece58"
             ],
             [
              0.8888888888888888,
              "#b5de2b"
             ],
             [
              1,
              "#fde725"
             ]
            ],
            "type": "histogram2dcontour"
           }
          ],
          "mesh3d": [
           {
            "colorbar": {
             "outlinewidth": 1,
             "tickcolor": "rgb(36,36,36)",
             "ticks": "outside"
            },
            "type": "mesh3d"
           }
          ],
          "parcoords": [
           {
            "line": {
             "colorbar": {
              "outlinewidth": 1,
              "tickcolor": "rgb(36,36,36)",
              "ticks": "outside"
             }
            },
            "type": "parcoords"
           }
          ],
          "pie": [
           {
            "automargin": true,
            "type": "pie"
           }
          ],
          "scatter": [
           {
            "fillpattern": {
             "fillmode": "overlay",
             "size": 10,
             "solidity": 0.2
            },
            "type": "scatter"
           }
          ],
          "scatter3d": [
           {
            "line": {
             "colorbar": {
              "outlinewidth": 1,
              "tickcolor": "rgb(36,36,36)",
              "ticks": "outside"
             }
            },
            "marker": {
             "colorbar": {
              "outlinewidth": 1,
              "tickcolor": "rgb(36,36,36)",
              "ticks": "outside"
             }
            },
            "type": "scatter3d"
           }
          ],
          "scattercarpet": [
           {
            "marker": {
             "colorbar": {
              "outlinewidth": 1,
              "tickcolor": "rgb(36,36,36)",
              "ticks": "outside"
             }
            },
            "type": "scattercarpet"
           }
          ],
          "scattergeo": [
           {
            "marker": {
             "colorbar": {
              "outlinewidth": 1,
              "tickcolor": "rgb(36,36,36)",
              "ticks": "outside"
             }
            },
            "type": "scattergeo"
           }
          ],
          "scattergl": [
           {
            "marker": {
             "colorbar": {
              "outlinewidth": 1,
              "tickcolor": "rgb(36,36,36)",
              "ticks": "outside"
             }
            },
            "type": "scattergl"
           }
          ],
          "scattermapbox": [
           {
            "marker": {
             "colorbar": {
              "outlinewidth": 1,
              "tickcolor": "rgb(36,36,36)",
              "ticks": "outside"
             }
            },
            "type": "scattermapbox"
           }
          ],
          "scatterpolar": [
           {
            "marker": {
             "colorbar": {
              "outlinewidth": 1,
              "tickcolor": "rgb(36,36,36)",
              "ticks": "outside"
             }
            },
            "type": "scatterpolar"
           }
          ],
          "scatterpolargl": [
           {
            "marker": {
             "colorbar": {
              "outlinewidth": 1,
              "tickcolor": "rgb(36,36,36)",
              "ticks": "outside"
             }
            },
            "type": "scatterpolargl"
           }
          ],
          "scatterternary": [
           {
            "marker": {
             "colorbar": {
              "outlinewidth": 1,
              "tickcolor": "rgb(36,36,36)",
              "ticks": "outside"
             }
            },
            "type": "scatterternary"
           }
          ],
          "surface": [
           {
            "colorbar": {
             "outlinewidth": 1,
             "tickcolor": "rgb(36,36,36)",
             "ticks": "outside"
            },
            "colorscale": [
             [
              0,
              "#440154"
             ],
             [
              0.1111111111111111,
              "#482878"
             ],
             [
              0.2222222222222222,
              "#3e4989"
             ],
             [
              0.3333333333333333,
              "#31688e"
             ],
             [
              0.4444444444444444,
              "#26828e"
             ],
             [
              0.5555555555555556,
              "#1f9e89"
             ],
             [
              0.6666666666666666,
              "#35b779"
             ],
             [
              0.7777777777777778,
              "#6ece58"
             ],
             [
              0.8888888888888888,
              "#b5de2b"
             ],
             [
              1,
              "#fde725"
             ]
            ],
            "type": "surface"
           }
          ],
          "table": [
           {
            "cells": {
             "fill": {
              "color": "rgb(237,237,237)"
             },
             "line": {
              "color": "white"
             }
            },
            "header": {
             "fill": {
              "color": "rgb(217,217,217)"
             },
             "line": {
              "color": "white"
             }
            },
            "type": "table"
           }
          ]
         },
         "layout": {
          "annotationdefaults": {
           "arrowhead": 0,
           "arrowwidth": 1
          },
          "autotypenumbers": "strict",
          "coloraxis": {
           "colorbar": {
            "outlinewidth": 1,
            "tickcolor": "rgb(36,36,36)",
            "ticks": "outside"
           }
          },
          "colorscale": {
           "diverging": [
            [
             0,
             "rgb(103,0,31)"
            ],
            [
             0.1,
             "rgb(178,24,43)"
            ],
            [
             0.2,
             "rgb(214,96,77)"
            ],
            [
             0.3,
             "rgb(244,165,130)"
            ],
            [
             0.4,
             "rgb(253,219,199)"
            ],
            [
             0.5,
             "rgb(247,247,247)"
            ],
            [
             0.6,
             "rgb(209,229,240)"
            ],
            [
             0.7,
             "rgb(146,197,222)"
            ],
            [
             0.8,
             "rgb(67,147,195)"
            ],
            [
             0.9,
             "rgb(33,102,172)"
            ],
            [
             1,
             "rgb(5,48,97)"
            ]
           ],
           "sequential": [
            [
             0,
             "#440154"
            ],
            [
             0.1111111111111111,
             "#482878"
            ],
            [
             0.2222222222222222,
             "#3e4989"
            ],
            [
             0.3333333333333333,
             "#31688e"
            ],
            [
             0.4444444444444444,
             "#26828e"
            ],
            [
             0.5555555555555556,
             "#1f9e89"
            ],
            [
             0.6666666666666666,
             "#35b779"
            ],
            [
             0.7777777777777778,
             "#6ece58"
            ],
            [
             0.8888888888888888,
             "#b5de2b"
            ],
            [
             1,
             "#fde725"
            ]
           ],
           "sequentialminus": [
            [
             0,
             "#440154"
            ],
            [
             0.1111111111111111,
             "#482878"
            ],
            [
             0.2222222222222222,
             "#3e4989"
            ],
            [
             0.3333333333333333,
             "#31688e"
            ],
            [
             0.4444444444444444,
             "#26828e"
            ],
            [
             0.5555555555555556,
             "#1f9e89"
            ],
            [
             0.6666666666666666,
             "#35b779"
            ],
            [
             0.7777777777777778,
             "#6ece58"
            ],
            [
             0.8888888888888888,
             "#b5de2b"
            ],
            [
             1,
             "#fde725"
            ]
           ]
          },
          "colorway": [
           "#1F77B4",
           "#FF7F0E",
           "#2CA02C",
           "#D62728",
           "#9467BD",
           "#8C564B",
           "#E377C2",
           "#7F7F7F",
           "#BCBD22",
           "#17BECF"
          ],
          "font": {
           "color": "rgb(36,36,36)"
          },
          "geo": {
           "bgcolor": "white",
           "lakecolor": "white",
           "landcolor": "white",
           "showlakes": true,
           "showland": true,
           "subunitcolor": "white"
          },
          "hoverlabel": {
           "align": "left"
          },
          "hovermode": "closest",
          "mapbox": {
           "style": "light"
          },
          "paper_bgcolor": "white",
          "plot_bgcolor": "white",
          "polar": {
           "angularaxis": {
            "gridcolor": "rgb(232,232,232)",
            "linecolor": "rgb(36,36,36)",
            "showgrid": false,
            "showline": true,
            "ticks": "outside"
           },
           "bgcolor": "white",
           "radialaxis": {
            "gridcolor": "rgb(232,232,232)",
            "linecolor": "rgb(36,36,36)",
            "showgrid": false,
            "showline": true,
            "ticks": "outside"
           }
          },
          "scene": {
           "xaxis": {
            "backgroundcolor": "white",
            "gridcolor": "rgb(232,232,232)",
            "gridwidth": 2,
            "linecolor": "rgb(36,36,36)",
            "showbackground": true,
            "showgrid": false,
            "showline": true,
            "ticks": "outside",
            "zeroline": false,
            "zerolinecolor": "rgb(36,36,36)"
           },
           "yaxis": {
            "backgroundcolor": "white",
            "gridcolor": "rgb(232,232,232)",
            "gridwidth": 2,
            "linecolor": "rgb(36,36,36)",
            "showbackground": true,
            "showgrid": false,
            "showline": true,
            "ticks": "outside",
            "zeroline": false,
            "zerolinecolor": "rgb(36,36,36)"
           },
           "zaxis": {
            "backgroundcolor": "white",
            "gridcolor": "rgb(232,232,232)",
            "gridwidth": 2,
            "linecolor": "rgb(36,36,36)",
            "showbackground": true,
            "showgrid": false,
            "showline": true,
            "ticks": "outside",
            "zeroline": false,
            "zerolinecolor": "rgb(36,36,36)"
           }
          },
          "shapedefaults": {
           "fillcolor": "black",
           "line": {
            "width": 0
           },
           "opacity": 0.3
          },
          "ternary": {
           "aaxis": {
            "gridcolor": "rgb(232,232,232)",
            "linecolor": "rgb(36,36,36)",
            "showgrid": false,
            "showline": true,
            "ticks": "outside"
           },
           "baxis": {
            "gridcolor": "rgb(232,232,232)",
            "linecolor": "rgb(36,36,36)",
            "showgrid": false,
            "showline": true,
            "ticks": "outside"
           },
           "bgcolor": "white",
           "caxis": {
            "gridcolor": "rgb(232,232,232)",
            "linecolor": "rgb(36,36,36)",
            "showgrid": false,
            "showline": true,
            "ticks": "outside"
           }
          },
          "title": {
           "x": 0.05
          },
          "xaxis": {
           "automargin": true,
           "gridcolor": "rgb(232,232,232)",
           "linecolor": "rgb(36,36,36)",
           "showgrid": false,
           "showline": true,
           "ticks": "outside",
           "title": {
            "standoff": 15
           },
           "zeroline": false,
           "zerolinecolor": "rgb(36,36,36)"
          },
          "yaxis": {
           "automargin": true,
           "gridcolor": "rgb(232,232,232)",
           "linecolor": "rgb(36,36,36)",
           "showgrid": false,
           "showline": true,
           "ticks": "outside",
           "title": {
            "standoff": 15
           },
           "zeroline": false,
           "zerolinecolor": "rgb(36,36,36)"
          }
         }
        },
        "xaxis": {
         "anchor": "y",
         "autorange": true,
         "gridcolor": "rgba(0, 0, 0, 0.1)",
         "mirror": "ticks",
         "nticks": 8,
         "range": [
          -0.06773345024112232,
          1.0677334502411222
         ],
         "showgrid": true,
         "showline": true,
         "side": "bottom",
         "tickfont": {
          "size": 16
         },
         "ticks": "inside",
         "title": {
          "font": {
           "color": "#000000",
           "size": 20
          },
          "text": "Composition (Fraction O)"
         },
         "type": "linear",
         "zeroline": false
        },
        "yaxis": {
         "anchor": "x",
         "autorange": true,
         "gridcolor": "rgba(0, 0, 0, 0.1)",
         "mirror": "ticks",
         "range": [
          -3.6497241866471266,
          0.43002377640007045
         ],
         "showgrid": true,
         "showline": true,
         "side": "left",
         "tickfont": {
          "size": 16
         },
         "ticks": "inside",
         "title": {
          "font": {
           "color": "#000000",
           "size": 20
          },
          "text": "Formation energy (eV/atom)"
         },
         "type": "linear"
        }
       }
      },
      "image/png": "[encoded data removed]",
      "text/html": [
       "<div>                            <div id=\"f83ab792-9339-42be-880d-a4a725a854bf\" class=\"plotly-graph-div\" style=\"height:525px; width:100%;\"></div>            <script type=\"text/javascript\">                require([\"plotly\"], function(Plotly) {                    window.PLOTLYENV=window.PLOTLYENV || {};                                    if (document.getElementById(\"f83ab792-9339-42be-880d-a4a725a854bf\")) {                    Plotly.newPlot(                        \"f83ab792-9339-42be-880d-a4a725a854bf\",                        [{\"hoverinfo\":\"none\",\"line\":{\"color\":\"black\",\"width\":4.0},\"mode\":\"lines\",\"showlegend\":false,\"x\":[0.5,0.6666666666666666,null,0.6666666666666666,1.0,null,0.5,0.0,null],\"y\":[-3.3060193924999997,-2.206560153333333,null,-2.206560153333333,0.0,null,-3.3060193924999997,0.0,null],\"type\":\"scatter\"},{\"hoverinfo\":\"skip\",\"mode\":\"text\",\"name\":\"Labels (stable)\",\"opacity\":1.0,\"showlegend\":true,\"text\":[\"CaO\",\"CaO<sub>2</sub>\"],\"textposition\":[\"bottom right\",\"bottom right\"],\"visible\":true,\"x\":[0.508,0.6746666666666666],\"y\":[-3.3190193924999996,-2.219560153333333],\"type\":\"scatter\"},{\"error_y\":{\"array\":[0,0,0,0],\"color\":\"gray\",\"thickness\":2.5,\"type\":\"data\",\"width\":5},\"hoverinfo\":\"text\",\"hoverlabel\":{\"font\":{\"size\":14}},\"hovertext\":[\"CaO (mp-2605-GGA) <br> -3.306 eV/atom (Stable)\",\"CaO<sub>2</sub> (mp-634859-GGA) <br> -2.207 eV/atom (Stable)\",\"O<sub>2</sub> (mp-12957-GGA) <br> 0.0 eV/atom (Stable)\",\"Ca (mp-45-GGA) <br> 0.0 eV/atom (Stable)\"],\"marker\":{\"color\":\"darkgreen\",\"line\":{\"color\":\"black\",\"width\":2},\"size\":16},\"mode\":\"markers\",\"name\":\"Stable\",\"opacity\":0.99,\"showlegend\":true,\"x\":[0.5,0.6666666666666666,1.0,0.0],\"y\":[-3.3060193924999997,-2.206560153333333,0.0,0.0],\"type\":\"scatter\"},{\"hoverinfo\":\"text\",\"hoverlabel\":{\"font\":{\"size\":14}},\"hovertext\":[\"O<sub>2</sub> (mp-1066100-GGA) <br> 0.126 eV/atom (+0.126 eV/atom)\",\"O<sub>2</sub> (mp-723285-GGA) <br> 0.001 eV/atom (+0.001 eV/atom)\",\"O<sub>2</sub> (mp-1087546-GGA) <br> 0.018 eV/atom (+0.018 eV/atom)\",\"O<sub>2</sub> (mp-611836-GGA) <br> 0.01 eV/atom (+0.01 eV/atom)\",\"O<sub>2</sub> (mp-1009490-GGA) <br> 0.002 eV/atom (+0.002 eV/atom)\",\"O<sub>2</sub> (mp-1180036-GGA) <br> 0.03 eV/atom (+0.03 eV/atom)\",\"O<sub>2</sub> (mp-607540-GGA) <br> 0.121 eV/atom (+0.121 eV/atom)\",\"O<sub>2</sub> (mp-610917-GGA) <br> 0.012 eV/atom (+0.012 eV/atom)\",\"Ca (mp-1064227-GGA) <br> 0.007 eV/atom (+0.007 eV/atom)\",\"Ca (mp-1078638-GGA) <br> 0.019 eV/atom (+0.019 eV/atom)\",\"Ca (mp-166-GGA) <br> 0.021 eV/atom (+0.021 eV/atom)\",\"Ca (mp-132-GGA) <br> 0.006 eV/atom (+0.006 eV/atom)\",\"Ca (mp-1008498-GGA) <br> 0.165 eV/atom (+0.165 eV/atom)\",\"Ca (mp-21-GGA) <br> 0.024 eV/atom (+0.024 eV/atom)\",\"Ca (mp-1183484-GGA) <br> 0.006 eV/atom (+0.006 eV/atom)\",\"Ca (mp-1183455-GGA) <br> 0.013 eV/atom (+0.013 eV/atom)\",\"CaO (mp-545512-GGA) <br> -3.241 eV/atom (+0.065 eV/atom)\",\"CaO<sub>10</sub> (mp-1182382-GGA) <br> -0.552 eV/atom (+0.05 eV/atom)\",\"CaO<sub>10</sub> (mp-1182183-GGA) <br> -0.524 eV/atom (+0.078 eV/atom)\"],\"marker\":{\"color\":[0.126,0.001,0.018,0.01,0.002,0.03,0.121,0.012,0.007,0.019,0.021,0.006,0.165,0.024,0.006,0.013,0.065,0.05,0.078],\"colorscale\":[[0.0,\"#fff5e3\"],[0.5,\"#f24324\"],[1.0,\"#c40000\"]],\"line\":{\"color\":\"black\",\"width\":1},\"opacity\":0.8,\"size\":7,\"symbol\":\"diamond\"},\"mode\":\"markers\",\"name\":\"Above Hull\",\"showlegend\":true,\"x\":[1.0,1.0,1.0,1.0,1.0,1.0,1.0,1.0,0.0,0.0,0.0,0.0,0.0,0.0,0.0,0.0,0.5,0.9090909090909091,0.9090909090909091],\"y\":[0.12571025749999976,0.0012722937499995979,0.017992666249999623,0.009970109999999366,0.0017175900000001576,0.029974092499999827,0.12115633999999975,0.012108549999999774,0.007139435000000027,0.01915200125000016,0.021217790000000125,0.005909895000000054,0.1649100175,0.023542050000000092,0.006399707500000185,0.013071680000000141,-3.2409813475,-0.5515857118181823,-0.5242677372727275],\"type\":\"scatter\"}],                        {\"annotations\":[{\"align\":\"center\",\"font\":{\"color\":\"#000000\",\"size\":24.0},\"opacity\":1.0,\"showarrow\":false,\"text\":\"O\",\"x\":1.03,\"xref\":\"x\",\"y\":-0.03,\"yref\":\"y\"},{\"align\":\"center\",\"font\":{\"color\":\"#000000\",\"size\":24.0},\"opacity\":1.0,\"showarrow\":false,\"text\":\"Ca\",\"x\":-0.03,\"xref\":\"x\",\"y\":-0.03,\"yref\":\"y\"}],\"autosize\":true,\"hovermode\":\"closest\",\"legend\":{\"orientation\":\"h\",\"tracegroupgap\":7,\"traceorder\":\"reversed\",\"x\":0,\"xanchor\":\"left\",\"y\":1.05},\"margin\":{\"b\":10,\"l\":10,\"pad\":0,\"r\":10,\"t\":0},\"paper_bgcolor\":\"rgba(0,0,0,0)\",\"plot_bgcolor\":\"rgba(0,0,0,0)\",\"showlegend\":true,\"xaxis\":{\"anchor\":\"y\",\"gridcolor\":\"rgba(0,0,0,0.1)\",\"mirror\":\"ticks\",\"nticks\":8,\"showgrid\":true,\"showline\":true,\"side\":\"bottom\",\"tickfont\":{\"size\":16.0},\"ticks\":\"inside\",\"title\":{\"text\":\"Composition (Fraction O)\",\"font\":{\"color\":\"#000000\",\"size\":20.0}},\"type\":\"linear\",\"zeroline\":false},\"yaxis\":{\"anchor\":\"x\",\"gridcolor\":\"rgba(0,0,0,0.1)\",\"mirror\":\"ticks\",\"showgrid\":true,\"showline\":true,\"side\":\"left\",\"tickfont\":{\"size\":16.0},\"ticks\":\"inside\",\"title\":{\"text\":\"Formation energy (eV/atom)\",\"font\":{\"color\":\"#000000\",\"size\":20.0}},\"type\":\"linear\"},\"template\":{\"data\":{\"histogram2dcontour\":[{\"type\":\"histogram2dcontour\",\"colorbar\":{\"outlinewidth\":1,\"tickcolor\":\"rgb(36,36,36)\",\"ticks\":\"outside\"},\"colorscale\":[[0.0,\"#440154\"],[0.1111111111111111,\"#482878\"],[0.2222222222222222,\"#3e4989\"],[0.3333333333333333,\"#31688e\"],[0.4444444444444444,\"#26828e\"],[0.5555555555555556,\"#1f9e89\"],[0.6666666666666666,\"#35b779\"],[0.7777777777777778,\"#6ece58\"],[0.8888888888888888,\"#b5de2b\"],[1.0,\"#fde725\"]]}],\"choropleth\":[{\"type\":\"choropleth\",\"colorbar\":{\"outlinewidth\":1,\"tickcolor\":\"rgb(36,36,36)\",\"ticks\":\"outside\"}}],\"histogram2d\":[{\"type\":\"histogram2d\",\"colorbar\":{\"outlinewidth\":1,\"tickcolor\":\"rgb(36,36,36)\",\"ticks\":\"outside\"},\"colorscale\":[[0.0,\"#440154\"],[0.1111111111111111,\"#482878\"],[0.2222222222222222,\"#3e4989\"],[0.3333333333333333,\"#31688e\"],[0.4444444444444444,\"#26828e\"],[0.5555555555555556,\"#1f9e89\"],[0.6666666666666666,\"#35b779\"],[0.7777777777777778,\"#6ece58\"],[0.8888888888888888,\"#b5de2b\"],[1.0,\"#fde725\"]]}],\"heatmap\":[{\"type\":\"heatmap\",\"colorbar\":{\"outlinewidth\":1,\"tickcolor\":\"rgb(36,36,36)\",\"ticks\":\"outside\"},\"colorscale\":[[0.0,\"#440154\"],[0.1111111111111111,\"#482878\"],[0.2222222222222222,\"#3e4989\"],[0.3333333333333333,\"#31688e\"],[0.4444444444444444,\"#26828e\"],[0.5555555555555556,\"#1f9e89\"],[0.6666666666666666,\"#35b779\"],[0.7777777777777778,\"#6ece58\"],[0.8888888888888888,\"#b5de2b\"],[1.0,\"#fde725\"]]}],\"heatmapgl\":[{\"type\":\"heatmapgl\",\"colorbar\":{\"outlinewidth\":1,\"tickcolor\":\"rgb(36,36,36)\",\"ticks\":\"outside\"},\"colorscale\":[[0.0,\"#440154\"],[0.1111111111111111,\"#482878\"],[0.2222222222222222,\"#3e4989\"],[0.3333333333333333,\"#31688e\"],[0.4444444444444444,\"#26828e\"],[0.5555555555555556,\"#1f9e89\"],[0.6666666666666666,\"#35b779\"],[0.7777777777777778,\"#6ece58\"],[0.8888888888888888,\"#b5de2b\"],[1.0,\"#fde725\"]]}],\"contourcarpet\":[{\"type\":\"contourcarpet\",\"colorbar\":{\"outlinewidth\":1,\"tickcolor\":\"rgb(36,36,36)\",\"ticks\":\"outside\"}}],\"contour\":[{\"type\":\"contour\",\"colorbar\":{\"outlinewidth\":1,\"tickcolor\":\"rgb(36,36,36)\",\"ticks\":\"outside\"},\"colorscale\":[[0.0,\"#440154\"],[0.1111111111111111,\"#482878\"],[0.2222222222222222,\"#3e4989\"],[0.3333333333333333,\"#31688e\"],[0.4444444444444444,\"#26828e\"],[0.5555555555555556,\"#1f9e89\"],[0.6666666666666666,\"#35b779\"],[0.7777777777777778,\"#6ece58\"],[0.8888888888888888,\"#b5de2b\"],[1.0,\"#fde725\"]]}],\"surface\":[{\"type\":\"surface\",\"colorbar\":{\"outlinewidth\":1,\"tickcolor\":\"rgb(36,36,36)\",\"ticks\":\"outside\"},\"colorscale\":[[0.0,\"#440154\"],[0.1111111111111111,\"#482878\"],[0.2222222222222222,\"#3e4989\"],[0.3333333333333333,\"#31688e\"],[0.4444444444444444,\"#26828e\"],[0.5555555555555556,\"#1f9e89\"],[0.6666666666666666,\"#35b779\"],[0.7777777777777778,\"#6ece58\"],[0.8888888888888888,\"#b5de2b\"],[1.0,\"#fde725\"]]}],\"mesh3d\":[{\"type\":\"mesh3d\",\"colorbar\":{\"outlinewidth\":1,\"tickcolor\":\"rgb(36,36,36)\",\"ticks\":\"outside\"}}],\"scatter\":[{\"fillpattern\":{\"fillmode\":\"overlay\",\"size\":10,\"solidity\":0.2},\"type\":\"scatter\"}],\"parcoords\":[{\"type\":\"parcoords\",\"line\":{\"colorbar\":{\"outlinewidth\":1,\"tickcolor\":\"rgb(36,36,36)\",\"ticks\":\"outside\"}}}],\"scatterpolargl\":[{\"type\":\"scatterpolargl\",\"marker\":{\"colorbar\":{\"outlinewidth\":1,\"tickcolor\":\"rgb(36,36,36)\",\"ticks\":\"outside\"}}}],\"bar\":[{\"error_x\":{\"color\":\"rgb(36,36,36)\"},\"error_y\":{\"color\":\"rgb(36,36,36)\"},\"marker\":{\"line\":{\"color\":\"white\",\"width\":0.5},\"pattern\":{\"fillmode\":\"overlay\",\"size\":10,\"solidity\":0.2}},\"type\":\"bar\"}],\"scattergeo\":[{\"type\":\"scattergeo\",\"marker\":{\"colorbar\":{\"outlinewidth\":1,\"tickcolor\":\"rgb(36,36,36)\",\"ticks\":\"outside\"}}}],\"scatterpolar\":[{\"type\":\"scatterpolar\",\"marker\":{\"colorbar\":{\"outlinewidth\":1,\"tickcolor\":\"rgb(36,36,36)\",\"ticks\":\"outside\"}}}],\"histogram\":[{\"marker\":{\"line\":{\"color\":\"white\",\"width\":0.6}},\"type\":\"histogram\"}],\"scattergl\":[{\"type\":\"scattergl\",\"marker\":{\"colorbar\":{\"outlinewidth\":1,\"tickcolor\":\"rgb(36,36,36)\",\"ticks\":\"outside\"}}}],\"scatter3d\":[{\"type\":\"scatter3d\",\"line\":{\"colorbar\":{\"outlinewidth\":1,\"tickcolor\":\"rgb(36,36,36)\",\"ticks\":\"outside\"}},\"marker\":{\"colorbar\":{\"outlinewidth\":1,\"tickcolor\":\"rgb(36,36,36)\",\"ticks\":\"outside\"}}}],\"scattermapbox\":[{\"type\":\"scattermapbox\",\"marker\":{\"colorbar\":{\"outlinewidth\":1,\"tickcolor\":\"rgb(36,36,36)\",\"ticks\":\"outside\"}}}],\"scatterternary\":[{\"type\":\"scatterternary\",\"marker\":{\"colorbar\":{\"outlinewidth\":1,\"tickcolor\":\"rgb(36,36,36)\",\"ticks\":\"outside\"}}}],\"scattercarpet\":[{\"type\":\"scattercarpet\",\"marker\":{\"colorbar\":{\"outlinewidth\":1,\"tickcolor\":\"rgb(36,36,36)\",\"ticks\":\"outside\"}}}],\"carpet\":[{\"aaxis\":{\"endlinecolor\":\"rgb(36,36,36)\",\"gridcolor\":\"white\",\"linecolor\":\"white\",\"minorgridcolor\":\"white\",\"startlinecolor\":\"rgb(36,36,36)\"},\"baxis\":{\"endlinecolor\":\"rgb(36,36,36)\",\"gridcolor\":\"white\",\"linecolor\":\"white\",\"minorgridcolor\":\"white\",\"startlinecolor\":\"rgb(36,36,36)\"},\"type\":\"carpet\"}],\"table\":[{\"cells\":{\"fill\":{\"color\":\"rgb(237,237,237)\"},\"line\":{\"color\":\"white\"}},\"header\":{\"fill\":{\"color\":\"rgb(217,217,217)\"},\"line\":{\"color\":\"white\"}},\"type\":\"table\"}],\"barpolar\":[{\"marker\":{\"line\":{\"color\":\"white\",\"width\":0.5},\"pattern\":{\"fillmode\":\"overlay\",\"size\":10,\"solidity\":0.2}},\"type\":\"barpolar\"}],\"pie\":[{\"automargin\":true,\"type\":\"pie\"}]},\"layout\":{\"autotypenumbers\":\"strict\",\"colorway\":[\"#1F77B4\",\"#FF7F0E\",\"#2CA02C\",\"#D62728\",\"#9467BD\",\"#8C564B\",\"#E377C2\",\"#7F7F7F\",\"#BCBD22\",\"#17BECF\"],\"font\":{\"color\":\"rgb(36,36,36)\"},\"hovermode\":\"closest\",\"hoverlabel\":{\"align\":\"left\"},\"paper_bgcolor\":\"white\",\"plot_bgcolor\":\"white\",\"polar\":{\"bgcolor\":\"white\",\"angularaxis\":{\"gridcolor\":\"rgb(232,232,232)\",\"linecolor\":\"rgb(36,36,36)\",\"showgrid\":false,\"showline\":true,\"ticks\":\"outside\"},\"radialaxis\":{\"gridcolor\":\"rgb(232,232,232)\",\"linecolor\":\"rgb(36,36,36)\",\"showgrid\":false,\"showline\":true,\"ticks\":\"outside\"}},\"ternary\":{\"bgcolor\":\"white\",\"aaxis\":{\"gridcolor\":\"rgb(232,232,232)\",\"linecolor\":\"rgb(36,36,36)\",\"showgrid\":false,\"showline\":true,\"ticks\":\"outside\"},\"baxis\":{\"gridcolor\":\"rgb(232,232,232)\",\"linecolor\":\"rgb(36,36,36)\",\"showgrid\":false,\"showline\":true,\"ticks\":\"outside\"},\"caxis\":{\"gridcolor\":\"rgb(232,232,232)\",\"linecolor\":\"rgb(36,36,36)\",\"showgrid\":false,\"showline\":true,\"ticks\":\"outside\"}},\"coloraxis\":{\"colorbar\":{\"outlinewidth\":1,\"tickcolor\":\"rgb(36,36,36)\",\"ticks\":\"outside\"}},\"colorscale\":{\"sequential\":[[0.0,\"#440154\"],[0.1111111111111111,\"#482878\"],[0.2222222222222222,\"#3e4989\"],[0.3333333333333333,\"#31688e\"],[0.4444444444444444,\"#26828e\"],[0.5555555555555556,\"#1f9e89\"],[0.6666666666666666,\"#35b779\"],[0.7777777777777778,\"#6ece58\"],[0.8888888888888888,\"#b5de2b\"],[1.0,\"#fde725\"]],\"sequentialminus\":[[0.0,\"#440154\"],[0.1111111111111111,\"#482878\"],[0.2222222222222222,\"#3e4989\"],[0.3333333333333333,\"#31688e\"],[0.4444444444444444,\"#26828e\"],[0.5555555555555556,\"#1f9e89\"],[0.6666666666666666,\"#35b779\"],[0.7777777777777778,\"#6ece58\"],[0.8888888888888888,\"#b5de2b\"],[1.0,\"#fde725\"]],\"diverging\":[[0.0,\"rgb(103,0,31)\"],[0.1,\"rgb(178,24,43)\"],[0.2,\"rgb(214,96,77)\"],[0.3,\"rgb(244,165,130)\"],[0.4,\"rgb(253,219,199)\"],[0.5,\"rgb(247,247,247)\"],[0.6,\"rgb(209,229,240)\"],[0.7,\"rgb(146,197,222)\"],[0.8,\"rgb(67,147,195)\"],[0.9,\"rgb(33,102,172)\"],[1.0,\"rgb(5,48,97)\"]]},\"xaxis\":{\"gridcolor\":\"rgb(232,232,232)\",\"linecolor\":\"rgb(36,36,36)\",\"showgrid\":false,\"showline\":true,\"ticks\":\"outside\",\"title\":{\"standoff\":15},\"zerolinecolor\":\"rgb(36,36,36)\",\"automargin\":true,\"zeroline\":false},\"yaxis\":{\"gridcolor\":\"rgb(232,232,232)\",\"linecolor\":\"rgb(36,36,36)\",\"showgrid\":false,\"showline\":true,\"ticks\":\"outside\",\"title\":{\"standoff\":15},\"zerolinecolor\":\"rgb(36,36,36)\",\"automargin\":true,\"zeroline\":false},\"scene\":{\"xaxis\":{\"backgroundcolor\":\"white\",\"gridcolor\":\"rgb(232,232,232)\",\"linecolor\":\"rgb(36,36,36)\",\"showbackground\":true,\"showgrid\":false,\"showline\":true,\"ticks\":\"outside\",\"zerolinecolor\":\"rgb(36,36,36)\",\"gridwidth\":2,\"zeroline\":false},\"yaxis\":{\"backgroundcolor\":\"white\",\"gridcolor\":\"rgb(232,232,232)\",\"linecolor\":\"rgb(36,36,36)\",\"showbackground\":true,\"showgrid\":false,\"showline\":true,\"ticks\":\"outside\",\"zerolinecolor\":\"rgb(36,36,36)\",\"gridwidth\":2,\"zeroline\":false},\"zaxis\":{\"backgroundcolor\":\"white\",\"gridcolor\":\"rgb(232,232,232)\",\"linecolor\":\"rgb(36,36,36)\",\"showbackground\":true,\"showgrid\":false,\"showline\":true,\"ticks\":\"outside\",\"zerolinecolor\":\"rgb(36,36,36)\",\"gridwidth\":2,\"zeroline\":false}},\"shapedefaults\":{\"fillcolor\":\"black\",\"line\":{\"width\":0},\"opacity\":0.3},\"annotationdefaults\":{\"arrowhead\":0,\"arrowwidth\":1},\"geo\":{\"bgcolor\":\"white\",\"landcolor\":\"white\",\"subunitcolor\":\"white\",\"showland\":true,\"showlakes\":true,\"lakecolor\":\"white\"},\"title\":{\"x\":0.05},\"mapbox\":{\"style\":\"light\"}}},\"coloraxis\":{\"colorbar\":{\"yanchor\":\"top\",\"y\":0.05,\"x\":1}}},                        {\"responsive\": true}                    ).then(function(){\n",
       "                            \n",
       "var gd = document.getElementById('f83ab792-9339-42be-880d-a4a725a854bf');\n",
       "var x = new MutationObserver(function (mutations, observer) {{\n",
       "        var display = window.getComputedStyle(gd).display;\n",
       "        if (!display || display === 'none') {{\n",
       "            console.log([gd, 'removed!']);\n",
       "            Plotly.purge(gd);\n",
       "            observer.disconnect();\n",
       "        }}\n",
       "}});\n",
       "\n",
       "// Listen for the removal of the full notebook cells\n",
       "var notebookContainer = gd.closest('#notebook-container');\n",
       "if (notebookContainer) {{\n",
       "    x.observe(notebookContainer, {childList: true});\n",
       "}}\n",
       "\n",
       "// Listen for the clearing of the current output cell\n",
       "var outputEl = gd.closest('.output');\n",
       "if (outputEl) {{\n",
       "    x.observe(outputEl, {childList: true});\n",
       "}}\n",
       "\n",
       "                        })                };                });            </script>        </div>"
      ]
     },
     "metadata": {},
     "output_type": "display_data"
    },
    {
     "name": "stdout",
     "output_type": "stream",
     "text": [
      "\u001b[33;1m\u001b[1;3mDescribe phase diagram, in particular list stable compounds, and list unstable compounds.     Do you think there are other stable compounds in this chemical system?\u001b[0m\u001b[32;1m\u001b[1;3mIn the phase diagram of the chemical system ['Ca', 'O'], the stable compounds are Calcium Oxide (CaO) and Calcium Peroxide (CaO2). The unstable compounds in this system are not explicitly mentioned in the phase diagram. \n",
      "\n",
      "There may be other stable compounds in this chemical system that are not shown in the phase diagram. Would you like me to check for all entries available in the Materials Project for this chemical system to see if there are any other stable compounds?\u001b[0m\n",
      "\n",
      "\u001b[1m> Finished chain.\u001b[0m\n"
     ]
    }
   ],
   "source": [
    "lst=list(agent_executor.stream({\"input\": \"Can you plot a phase diagram for chemical system ['Ca','O']?\"}))"
   ]
  },
  {
   "cell_type": "code",
   "execution_count": null,
   "id": "6825d1e5-8dca-469f-b6ab-82bbfb72e3c9",
   "metadata": {},
   "outputs": [],
   "source": []
  },
  {
   "cell_type": "code",
   "execution_count": null,
   "id": "88c039d8-7c37-4952-8ea9-874a25db7ccf",
   "metadata": {},
   "outputs": [],
   "source": []
  },
  {
   "cell_type": "code",
   "execution_count": null,
   "id": "5b41fea2-9857-4522-a3ed-9c2179865299",
   "metadata": {},
   "outputs": [],
   "source": []
  },
  {
   "cell_type": "code",
   "execution_count": null,
   "id": "e509573c-5dd0-4229-a278-adc8d82def30",
   "metadata": {},
   "outputs": [],
   "source": []
  },
  {
   "cell_type": "markdown",
   "id": "de7ab5bf-137e-43e1-a80e-35d4abaccbca",
   "metadata": {},
   "source": [
    "Attempt to access API in a more general manner using interface between OpenAPI and chains"
   ]
  },
  {
   "cell_type": "code",
   "execution_count": 99,
   "id": "4977dff0-c1a2-466d-9fe0-9f3f3e266931",
   "metadata": {},
   "outputs": [],
   "source": [
    "# import json\n",
    "# from openapi_pydantic import OpenAPI\n",
    "# from langchain_community.utilities.openapi import OpenAPISpec\n",
    "# from langchain.chains.openai_functions.openapi import get_openapi_chain\n",
    "# from langchain_core.messages import HumanMessage, SystemMessage\n",
    "\n",
    "# with open('mp_openapi.json','r') as file:\n",
    "#     docs=json.load(file)\n",
    "# specs=OpenAPISpec.from_spec_dict(docs)\n",
    "\n",
    "# llm = OpenAI(temperature=0)\n",
    "# chain = get_openapi_chain(specs,llm,verbose=True)"
   ]
  },
  {
   "cell_type": "code",
   "execution_count": 100,
   "id": "488560fe-4b03-44a9-9223-4695ed6dab82",
   "metadata": {},
   "outputs": [
    {
     "name": "stderr",
     "output_type": "stream",
     "text": [
      "/Users/elenapatyukova/anaconda3/envs/py3.11/lib/python3.11/site-packages/langchain_core/_api/deprecation.py:139: LangChainDeprecationWarning:\n",
      "\n",
      "The method `Chain.run` was deprecated in langchain 0.1.0 and will be removed in 0.3.0. Use invoke instead.\n",
      "\n"
     ]
    },
    {
     "name": "stdout",
     "output_type": "stream",
     "text": [
      "\n",
      "\n",
      "\u001b[1m> Entering new APIChain chain...\u001b[0m\n",
      "\u001b[32;1m\u001b[1;3m https://api.materialsproject.org/materials/mp-149/vasp?API_KEY=YOUR_API_KEY\u001b[0m\n",
      "\u001b[33;1m\u001b[1;3m{\"detail\":\"Not Found\"}\u001b[0m\n",
      "\n",
      "\u001b[1m> Finished chain.\u001b[0m\n"
     ]
    },
    {
     "data": {
      "text/plain": [
       "' The requested material_id mp-149 was not found in the database.'"
      ]
     },
     "execution_count": 100,
     "metadata": {},
     "output_type": "execute_result"
    }
   ],
   "source": [
    "from langchain.chains import APIChain\n",
    "from langchain.chains.api import open_meteo_docs\n",
    "from langchain_openai import OpenAI\n",
    "\n",
    "llm = OpenAI(temperature=0)\n",
    "\n",
    "chain = APIChain.from_llm_and_api_docs(\n",
    "    llm,\n",
    "    api_docs='https://api.materialsproject.org/docs',\n",
    "    headers={\"X-Api-Key\": os.environ['MP_API_KEY']},\n",
    "    verbose=True,\n",
    "    limit_to_domains=[\"https://api.materialsproject.org/\"],\n",
    ")\n",
    "\n",
    "chain.run([SystemMessage(content=\"You are a helpful assisant and you can help to generate correct api calls.\"),\\\n",
    "              HumanMessage(content=\"Download summary for material_id mp-149\")])"
   ]
  },
  {
   "cell_type": "code",
   "execution_count": null,
   "id": "ec60f5af-79d0-4349-bbc9-a57136e157f9",
   "metadata": {},
   "outputs": [],
   "source": [
    "## We can see that request is formulated incorrecly. Besides currently it is advices to use MPRester()"
   ]
  },
  {
   "cell_type": "code",
   "execution_count": null,
   "id": "8bcb7812-6b49-481e-b2e8-8f0ef0503e5c",
   "metadata": {},
   "outputs": [],
   "source": []
  },
  {
   "cell_type": "code",
   "execution_count": 313,
   "id": "eb903ab8-5fb1-4e3f-82d1-f2de7ea69acf",
   "metadata": {},
   "outputs": [],
   "source": []
  },
  {
   "cell_type": "code",
   "execution_count": null,
   "id": "cdc5ca24-39ca-40c6-9c2a-06bf894d91b5",
   "metadata": {},
   "outputs": [],
   "source": []
  },
  {
   "cell_type": "code",
   "execution_count": null,
   "id": "009a6810-6acd-47d9-ac5c-72c6dd2a2fd4",
   "metadata": {},
   "outputs": [],
   "source": []
  },
  {
   "cell_type": "code",
   "execution_count": null,
   "id": "2e38caec-412b-4818-b421-cee0d2554447",
   "metadata": {},
   "outputs": [],
   "source": []
  }
 ],
 "metadata": {
  "kernelspec": {
   "display_name": "Python 3 (ipykernel)",
   "language": "python",
   "name": "python3"
  },
  "language_info": {
   "codemirror_mode": {
    "name": "ipython",
    "version": 3
   },
   "file_extension": ".py",
   "mimetype": "text/x-python",
   "name": "python",
   "nbconvert_exporter": "python",
   "pygments_lexer": "ipython3",
   "version": "3.11.8"
  }
 },
 "nbformat": 4,
 "nbformat_minor": 5
}
